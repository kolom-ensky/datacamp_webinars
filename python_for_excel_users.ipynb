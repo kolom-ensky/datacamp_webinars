{
 "cells": [
  {
   "cell_type": "markdown",
   "metadata": {
    "colab_type": "text",
    "id": "upgA33i96krb"
   },
   "source": [
    "<p align=\"center\">\n",
    "<img src=\"https://cdn.datacamp.com/main-app/assets/brand/datacamp-horizontal-rgb-b641f95b7bdd7560b554c761a0b4910f9619907dd823c0e41244ed72078723bf.svg\" alt = \"DataCamp icon\" width=\"50%\">\n",
    "</p>\n",
    "<br><br>\n",
    "\n",
    "## **Python for Excel Users**\n",
    "\n",
    "\n",
    "Welcome to this live, hands-on training where you will learn how to upgrade from being an Excel user to using Python. \n",
    "\n",
    "In most organizations across all industries, data fluency, technical skills and a data-driven mindset are becoming sought after skills that drive organizational success in the digital age. This shift has spurred on the adoption of tools that go beyond Excel, which allow for more robust data analysis, visualization and presentation. In this notebook, you will learn:\n",
    "\n",
    "* How to import Excel files into `pandas`.\n",
    "* Filter, add new columns, and explore DataFrames.\n",
    "* Apply common Excel operations such as pivot tables and VLOOKUP in Python.\n",
    "* Present data as visualizations using `matplotlib` and `seaborn`.\n",
    "\n",
    "The dataset to be used in this webinar is an Excel file named `sales_data_dirty.xlsx` - it contains 4 sheets, each containing the following columns:\n",
    "\n",
    "<br>\n",
    "\n",
    "\n",
    "\n",
    "![alt](https://github.com/adelnehme/python-for-excel-users-webinar/blob/master/image.png?raw=true)"
   ]
  },
  {
   "cell_type": "markdown",
   "metadata": {
    "colab_type": "text",
    "id": "aAVUCIhQnvqx"
   },
   "source": [
    "## **Getting started with the dataset**"
   ]
  },
  {
   "cell_type": "markdown",
   "metadata": {
    "colab_type": "text",
    "id": "5mq4lDtxqLp6"
   },
   "source": [
    "Similar to how you can download software (excel, tableau etc..) on your computer that allows you perform specific functions (data analysis, visualization ...) - Python has packages or modules that we download and install that allows to perform a set of tasks. We can also set aliases for these packages to shorten their name and make calling them more convenient."
   ]
  },
  {
   "cell_type": "code",
   "execution_count": 60,
   "metadata": {
    "colab": {
     "base_uri": "https://localhost:8080/",
     "height": 71
    },
    "colab_type": "code",
    "id": "-d04csgd6i0R",
    "outputId": "aef3c3fd-2c4e-423a-b63c-ac1310c595d2"
   },
   "outputs": [],
   "source": [
    "# Import relevant packages\n",
    "import pandas as pd\n",
    "import matplotlib.pyplot as plt\n",
    "import seaborn as sns"
   ]
  },
  {
   "cell_type": "code",
   "execution_count": 61,
   "metadata": {
    "colab": {},
    "colab_type": "code",
    "id": "hgWlh8epiOij"
   },
   "outputs": [],
   "source": [
    "# Import the data\n",
    "data = pd.ExcelFile('https://github.com/adelnehme/python-for-excel-users-webinar/blob/master/sales_data_dirty.xlsx?raw=true')"
   ]
  },
  {
   "cell_type": "code",
   "execution_count": 62,
   "metadata": {
    "colab": {
     "base_uri": "https://localhost:8080/",
     "height": 34
    },
    "colab_type": "code",
    "id": "EMa8uUlAidFk",
    "outputId": "b3627e51-d4e3-4f65-82d4-cddd39ddb6c1"
   },
   "outputs": [
    {
     "name": "stdout",
     "output_type": "stream",
     "text": [
      "['sales', 'customers', 'dates', 'employees']\n"
     ]
    }
   ],
   "source": [
    "# Print the name of the sheets\n",
    "print(data.sheet_names)"
   ]
  },
  {
   "cell_type": "code",
   "execution_count": 63,
   "metadata": {
    "colab": {
     "base_uri": "https://localhost:8080/",
     "height": 221
    },
    "colab_type": "code",
    "id": "WlG46zdNidzz",
    "outputId": "b7180297-e8b0-4044-d125-050a7d3c6e53"
   },
   "outputs": [
    {
     "name": "stdout",
     "output_type": "stream",
     "text": [
      "(31465, 5)\n"
     ]
    },
    {
     "data": {
      "text/html": [
       "<div>\n",
       "<style scoped>\n",
       "    .dataframe tbody tr th:only-of-type {\n",
       "        vertical-align: middle;\n",
       "    }\n",
       "\n",
       "    .dataframe tbody tr th {\n",
       "        vertical-align: top;\n",
       "    }\n",
       "\n",
       "    .dataframe thead th {\n",
       "        text-align: right;\n",
       "    }\n",
       "</style>\n",
       "<table border=\"1\" class=\"dataframe\">\n",
       "  <thead>\n",
       "    <tr style=\"text-align: right;\">\n",
       "      <th></th>\n",
       "      <th>SalesOrderID</th>\n",
       "      <th>TotalDue</th>\n",
       "      <th>NumberofItems</th>\n",
       "      <th>OnlineOrderFlag</th>\n",
       "      <th>Status</th>\n",
       "    </tr>\n",
       "  </thead>\n",
       "  <tbody>\n",
       "    <tr>\n",
       "      <th>0</th>\n",
       "      <td>43659</td>\n",
       "      <td>23153.2339</td>\n",
       "      <td>12</td>\n",
       "      <td>0</td>\n",
       "      <td>5</td>\n",
       "    </tr>\n",
       "    <tr>\n",
       "      <th>1</th>\n",
       "      <td>43660</td>\n",
       "      <td>1457.3288</td>\n",
       "      <td>2</td>\n",
       "      <td>0</td>\n",
       "      <td>5</td>\n",
       "    </tr>\n",
       "    <tr>\n",
       "      <th>2</th>\n",
       "      <td>43661</td>\n",
       "      <td>36865.8012</td>\n",
       "      <td>15</td>\n",
       "      <td>0</td>\n",
       "      <td>5</td>\n",
       "    </tr>\n",
       "    <tr>\n",
       "      <th>3</th>\n",
       "      <td>43662</td>\n",
       "      <td>32474.9324</td>\n",
       "      <td>22</td>\n",
       "      <td>0</td>\n",
       "      <td>5</td>\n",
       "    </tr>\n",
       "    <tr>\n",
       "      <th>4</th>\n",
       "      <td>43663</td>\n",
       "      <td>472.3108</td>\n",
       "      <td>1</td>\n",
       "      <td>0</td>\n",
       "      <td>5</td>\n",
       "    </tr>\n",
       "  </tbody>\n",
       "</table>\n",
       "</div>"
      ],
      "text/plain": [
       "   SalesOrderID    TotalDue  NumberofItems  OnlineOrderFlag  Status\n",
       "0         43659  23153.2339             12                0       5\n",
       "1         43660   1457.3288              2                0       5\n",
       "2         43661  36865.8012             15                0       5\n",
       "3         43662  32474.9324             22                0       5\n",
       "4         43663    472.3108              1                0       5"
      ]
     },
     "execution_count": 63,
     "metadata": {},
     "output_type": "execute_result"
    }
   ],
   "source": [
    "# Parse sales data\n",
    "sales = data.parse('sales')\n",
    "# Print dimensions and glimpse\n",
    "print(sales.shape)\n",
    "sales.head(5)"
   ]
  },
  {
   "cell_type": "code",
   "execution_count": 64,
   "metadata": {
    "colab": {
     "base_uri": "https://localhost:8080/",
     "height": 221
    },
    "colab_type": "code",
    "id": "HBJhclwIijLQ",
    "outputId": "2deb33ec-6522-4fc3-c39e-8a140bd1529e"
   },
   "outputs": [
    {
     "name": "stdout",
     "output_type": "stream",
     "text": [
      "(31465, 6)\n"
     ]
    },
    {
     "data": {
      "text/html": [
       "<div>\n",
       "<style scoped>\n",
       "    .dataframe tbody tr th:only-of-type {\n",
       "        vertical-align: middle;\n",
       "    }\n",
       "\n",
       "    .dataframe tbody tr th {\n",
       "        vertical-align: top;\n",
       "    }\n",
       "\n",
       "    .dataframe thead th {\n",
       "        text-align: right;\n",
       "    }\n",
       "</style>\n",
       "<table border=\"1\" class=\"dataframe\">\n",
       "  <thead>\n",
       "    <tr style=\"text-align: right;\">\n",
       "      <th></th>\n",
       "      <th>SalesOrderID</th>\n",
       "      <th>CustomerFirstName</th>\n",
       "      <th>CustomerLastName</th>\n",
       "      <th>EmployeeFirstName</th>\n",
       "      <th>EmployeeLastName</th>\n",
       "      <th>ChannelType</th>\n",
       "    </tr>\n",
       "  </thead>\n",
       "  <tbody>\n",
       "    <tr>\n",
       "      <th>0</th>\n",
       "      <td>43659</td>\n",
       "      <td>NaN</td>\n",
       "      <td>NaN</td>\n",
       "      <td>Tsvi</td>\n",
       "      <td>Reiter</td>\n",
       "      <td>NaN</td>\n",
       "    </tr>\n",
       "    <tr>\n",
       "      <th>1</th>\n",
       "      <td>43660</td>\n",
       "      <td>NaN</td>\n",
       "      <td>NaN</td>\n",
       "      <td>Tsvi</td>\n",
       "      <td>Reiter</td>\n",
       "      <td>NaN</td>\n",
       "    </tr>\n",
       "    <tr>\n",
       "      <th>2</th>\n",
       "      <td>43661</td>\n",
       "      <td>NaN</td>\n",
       "      <td>NaN</td>\n",
       "      <td>José</td>\n",
       "      <td>Saraiva</td>\n",
       "      <td>NaN</td>\n",
       "    </tr>\n",
       "    <tr>\n",
       "      <th>3</th>\n",
       "      <td>43662</td>\n",
       "      <td>NaN</td>\n",
       "      <td>NaN</td>\n",
       "      <td>José</td>\n",
       "      <td>Saraiva</td>\n",
       "      <td>NaN</td>\n",
       "    </tr>\n",
       "    <tr>\n",
       "      <th>4</th>\n",
       "      <td>43663</td>\n",
       "      <td>NaN</td>\n",
       "      <td>NaN</td>\n",
       "      <td>Linda</td>\n",
       "      <td>Mitchell</td>\n",
       "      <td>NaN</td>\n",
       "    </tr>\n",
       "  </tbody>\n",
       "</table>\n",
       "</div>"
      ],
      "text/plain": [
       "   SalesOrderID CustomerFirstName CustomerLastName EmployeeFirstName  \\\n",
       "0         43659               NaN              NaN              Tsvi   \n",
       "1         43660               NaN              NaN              Tsvi   \n",
       "2         43661               NaN              NaN              José   \n",
       "3         43662               NaN              NaN              José   \n",
       "4         43663               NaN              NaN             Linda   \n",
       "\n",
       "  EmployeeLastName ChannelType  \n",
       "0           Reiter         NaN  \n",
       "1           Reiter         NaN  \n",
       "2          Saraiva         NaN  \n",
       "3          Saraiva         NaN  \n",
       "4         Mitchell         NaN  "
      ]
     },
     "execution_count": 64,
     "metadata": {},
     "output_type": "execute_result"
    }
   ],
   "source": [
    "# Parse customers data \n",
    "customers = data.parse('customers')\n",
    "# Print dimensions and glimpse\n",
    "print(customers.shape)\n",
    "customers.head(5)"
   ]
  },
  {
   "cell_type": "code",
   "execution_count": 65,
   "metadata": {
    "colab": {
     "base_uri": "https://localhost:8080/",
     "height": 221
    },
    "colab_type": "code",
    "id": "eLRqU9yVj8lk",
    "outputId": "ad46cde9-6213-4fce-e637-e3ab170f4632"
   },
   "outputs": [
    {
     "name": "stdout",
     "output_type": "stream",
     "text": [
      "(31465, 3)\n"
     ]
    },
    {
     "data": {
      "text/html": [
       "<div>\n",
       "<style scoped>\n",
       "    .dataframe tbody tr th:only-of-type {\n",
       "        vertical-align: middle;\n",
       "    }\n",
       "\n",
       "    .dataframe tbody tr th {\n",
       "        vertical-align: top;\n",
       "    }\n",
       "\n",
       "    .dataframe thead th {\n",
       "        text-align: right;\n",
       "    }\n",
       "</style>\n",
       "<table border=\"1\" class=\"dataframe\">\n",
       "  <thead>\n",
       "    <tr style=\"text-align: right;\">\n",
       "      <th></th>\n",
       "      <th>SalesOrderID</th>\n",
       "      <th>OrderDate</th>\n",
       "      <th>ShipDate</th>\n",
       "    </tr>\n",
       "  </thead>\n",
       "  <tbody>\n",
       "    <tr>\n",
       "      <th>0</th>\n",
       "      <td>43659</td>\n",
       "      <td>2011-05-31 00:00:00</td>\n",
       "      <td>2011-06-07 00:00:00</td>\n",
       "    </tr>\n",
       "    <tr>\n",
       "      <th>1</th>\n",
       "      <td>43660</td>\n",
       "      <td>2011-05-31 00:00:00</td>\n",
       "      <td>2011-06-07 00:00:00</td>\n",
       "    </tr>\n",
       "    <tr>\n",
       "      <th>2</th>\n",
       "      <td>43661</td>\n",
       "      <td>2011-05-31 00:00:00</td>\n",
       "      <td>2011-06-07 00:00:00</td>\n",
       "    </tr>\n",
       "    <tr>\n",
       "      <th>3</th>\n",
       "      <td>43662</td>\n",
       "      <td>2011-05-31 00:00:00</td>\n",
       "      <td>2011-06-07 00:00:00</td>\n",
       "    </tr>\n",
       "    <tr>\n",
       "      <th>4</th>\n",
       "      <td>43663</td>\n",
       "      <td>2011-05-31 00:00:00</td>\n",
       "      <td>2011-06-07 00:00:00</td>\n",
       "    </tr>\n",
       "  </tbody>\n",
       "</table>\n",
       "</div>"
      ],
      "text/plain": [
       "   SalesOrderID            OrderDate             ShipDate\n",
       "0         43659  2011-05-31 00:00:00  2011-06-07 00:00:00\n",
       "1         43660  2011-05-31 00:00:00  2011-06-07 00:00:00\n",
       "2         43661  2011-05-31 00:00:00  2011-06-07 00:00:00\n",
       "3         43662  2011-05-31 00:00:00  2011-06-07 00:00:00\n",
       "4         43663  2011-05-31 00:00:00  2011-06-07 00:00:00"
      ]
     },
     "execution_count": 65,
     "metadata": {},
     "output_type": "execute_result"
    }
   ],
   "source": [
    "# Parse dates data\n",
    "dates = data.parse('dates')\n",
    "# Print dimensions and glimpse\n",
    "print(dates.shape)\n",
    "dates.head(5)"
   ]
  },
  {
   "cell_type": "code",
   "execution_count": 66,
   "metadata": {
    "colab": {
     "base_uri": "https://localhost:8080/",
     "height": 221
    },
    "colab_type": "code",
    "id": "dzdHh12loRMq",
    "outputId": "5c6fa439-f1f3-41a6-cf03-48f4d1e3742a"
   },
   "outputs": [
    {
     "name": "stdout",
     "output_type": "stream",
     "text": [
      "(17, 5)\n"
     ]
    },
    {
     "data": {
      "text/html": [
       "<div>\n",
       "<style scoped>\n",
       "    .dataframe tbody tr th:only-of-type {\n",
       "        vertical-align: middle;\n",
       "    }\n",
       "\n",
       "    .dataframe tbody tr th {\n",
       "        vertical-align: top;\n",
       "    }\n",
       "\n",
       "    .dataframe thead th {\n",
       "        text-align: right;\n",
       "    }\n",
       "</style>\n",
       "<table border=\"1\" class=\"dataframe\">\n",
       "  <thead>\n",
       "    <tr style=\"text-align: right;\">\n",
       "      <th></th>\n",
       "      <th>FirstName</th>\n",
       "      <th>LastName</th>\n",
       "      <th>CountryCode</th>\n",
       "      <th>RegionName</th>\n",
       "      <th>CommissionPct</th>\n",
       "    </tr>\n",
       "  </thead>\n",
       "  <tbody>\n",
       "    <tr>\n",
       "      <th>0</th>\n",
       "      <td>Amy</td>\n",
       "      <td>Alberts</td>\n",
       "      <td>GB</td>\n",
       "      <td>United Kingdom</td>\n",
       "      <td>0.000</td>\n",
       "    </tr>\n",
       "    <tr>\n",
       "      <th>1</th>\n",
       "      <td>David</td>\n",
       "      <td>Campbell</td>\n",
       "      <td>US</td>\n",
       "      <td>Northwest</td>\n",
       "      <td>0.012</td>\n",
       "    </tr>\n",
       "    <tr>\n",
       "      <th>2</th>\n",
       "      <td>Garrett</td>\n",
       "      <td>Vargas</td>\n",
       "      <td>CA</td>\n",
       "      <td>Canada</td>\n",
       "      <td>0.010</td>\n",
       "    </tr>\n",
       "    <tr>\n",
       "      <th>3</th>\n",
       "      <td>Jae</td>\n",
       "      <td>Pak</td>\n",
       "      <td>CA</td>\n",
       "      <td>Canada</td>\n",
       "      <td>0.020</td>\n",
       "    </tr>\n",
       "    <tr>\n",
       "      <th>4</th>\n",
       "      <td>Jillian</td>\n",
       "      <td>Carson</td>\n",
       "      <td>US</td>\n",
       "      <td>Southwest</td>\n",
       "      <td>0.015</td>\n",
       "    </tr>\n",
       "  </tbody>\n",
       "</table>\n",
       "</div>"
      ],
      "text/plain": [
       "  FirstName  LastName CountryCode      RegionName  CommissionPct\n",
       "0       Amy   Alberts          GB  United Kingdom          0.000\n",
       "1     David  Campbell          US       Northwest          0.012\n",
       "2   Garrett    Vargas          CA          Canada          0.010\n",
       "3       Jae       Pak          CA          Canada          0.020\n",
       "4   Jillian    Carson          US       Southwest          0.015"
      ]
     },
     "execution_count": 66,
     "metadata": {},
     "output_type": "execute_result"
    }
   ],
   "source": [
    "# Parse employees data\n",
    "employees = data.parse('employees')\n",
    "# Print dimensions and glimpse\n",
    "print(employees.shape)\n",
    "employees.head()"
   ]
  },
  {
   "cell_type": "markdown",
   "metadata": {
    "colab_type": "text",
    "id": "SOJbq0UM8Ktk"
   },
   "source": [
    "## **Better understanding our data**\n"
   ]
  },
  {
   "cell_type": "markdown",
   "metadata": {
    "colab_type": "text",
    "id": "tA-yPFUo2wd8"
   },
   "source": [
    "Some important and common methods needed to get a better understanding of DataFrames are the following: \n",
    "\n",
    "- `.info()` provides a bird's eye view of column data types and missing values\n",
    "- `.describe()` returns a distribution of numeric columns in your DataFrame\n",
    "- `.unique()` gives out the number of unique values in a column"
   ]
  },
  {
   "cell_type": "code",
   "execution_count": 67,
   "metadata": {
    "colab": {
     "base_uri": "https://localhost:8080/",
     "height": 221
    },
    "colab_type": "code",
    "id": "yyhXh1iL4IsA",
    "outputId": "a0502e92-28a4-4aff-e0ab-48a5a3c9ca57"
   },
   "outputs": [
    {
     "name": "stdout",
     "output_type": "stream",
     "text": [
      "<class 'pandas.core.frame.DataFrame'>\n",
      "RangeIndex: 31465 entries, 0 to 31464\n",
      "Data columns (total 5 columns):\n",
      " #   Column           Non-Null Count  Dtype  \n",
      "---  ------           --------------  -----  \n",
      " 0   SalesOrderID     31465 non-null  int64  \n",
      " 1   TotalDue         31465 non-null  float64\n",
      " 2   NumberofItems    31465 non-null  int64  \n",
      " 3   OnlineOrderFlag  31465 non-null  int64  \n",
      " 4   Status           31465 non-null  int64  \n",
      "dtypes: float64(1), int64(4)\n",
      "memory usage: 1.2 MB\n"
     ]
    }
   ],
   "source": [
    "# Understand missingness of sales data\n",
    "sales.info()"
   ]
  },
  {
   "cell_type": "code",
   "execution_count": 68,
   "metadata": {
    "colab": {
     "base_uri": "https://localhost:8080/",
     "height": 297
    },
    "colab_type": "code",
    "id": "YtPmjfN54KsL",
    "outputId": "fb44c8f9-0bbe-443b-975d-43dbcfadb30a"
   },
   "outputs": [
    {
     "data": {
      "text/html": [
       "<div>\n",
       "<style scoped>\n",
       "    .dataframe tbody tr th:only-of-type {\n",
       "        vertical-align: middle;\n",
       "    }\n",
       "\n",
       "    .dataframe tbody tr th {\n",
       "        vertical-align: top;\n",
       "    }\n",
       "\n",
       "    .dataframe thead th {\n",
       "        text-align: right;\n",
       "    }\n",
       "</style>\n",
       "<table border=\"1\" class=\"dataframe\">\n",
       "  <thead>\n",
       "    <tr style=\"text-align: right;\">\n",
       "      <th></th>\n",
       "      <th>SalesOrderID</th>\n",
       "      <th>TotalDue</th>\n",
       "      <th>NumberofItems</th>\n",
       "      <th>OnlineOrderFlag</th>\n",
       "      <th>Status</th>\n",
       "    </tr>\n",
       "  </thead>\n",
       "  <tbody>\n",
       "    <tr>\n",
       "      <th>count</th>\n",
       "      <td>31465.000000</td>\n",
       "      <td>31465.000000</td>\n",
       "      <td>31465.000000</td>\n",
       "      <td>31465.000000</td>\n",
       "      <td>31465.0</td>\n",
       "    </tr>\n",
       "    <tr>\n",
       "      <th>mean</th>\n",
       "      <td>59391.000000</td>\n",
       "      <td>3915.995109</td>\n",
       "      <td>3.855617</td>\n",
       "      <td>0.879040</td>\n",
       "      <td>5.0</td>\n",
       "    </tr>\n",
       "    <tr>\n",
       "      <th>std</th>\n",
       "      <td>9083.307446</td>\n",
       "      <td>12515.462713</td>\n",
       "      <td>7.214877</td>\n",
       "      <td>0.326086</td>\n",
       "      <td>0.0</td>\n",
       "    </tr>\n",
       "    <tr>\n",
       "      <th>min</th>\n",
       "      <td>43659.000000</td>\n",
       "      <td>1.518300</td>\n",
       "      <td>1.000000</td>\n",
       "      <td>0.000000</td>\n",
       "      <td>5.0</td>\n",
       "    </tr>\n",
       "    <tr>\n",
       "      <th>25%</th>\n",
       "      <td>51525.000000</td>\n",
       "      <td>62.951900</td>\n",
       "      <td>1.000000</td>\n",
       "      <td>1.000000</td>\n",
       "      <td>5.0</td>\n",
       "    </tr>\n",
       "    <tr>\n",
       "      <th>50%</th>\n",
       "      <td>59391.000000</td>\n",
       "      <td>865.204000</td>\n",
       "      <td>2.000000</td>\n",
       "      <td>1.000000</td>\n",
       "      <td>5.0</td>\n",
       "    </tr>\n",
       "    <tr>\n",
       "      <th>75%</th>\n",
       "      <td>67257.000000</td>\n",
       "      <td>2615.490800</td>\n",
       "      <td>3.000000</td>\n",
       "      <td>1.000000</td>\n",
       "      <td>5.0</td>\n",
       "    </tr>\n",
       "    <tr>\n",
       "      <th>max</th>\n",
       "      <td>75123.000000</td>\n",
       "      <td>187487.825000</td>\n",
       "      <td>72.000000</td>\n",
       "      <td>1.000000</td>\n",
       "      <td>5.0</td>\n",
       "    </tr>\n",
       "  </tbody>\n",
       "</table>\n",
       "</div>"
      ],
      "text/plain": [
       "       SalesOrderID       TotalDue  NumberofItems  OnlineOrderFlag   Status\n",
       "count  31465.000000   31465.000000   31465.000000     31465.000000  31465.0\n",
       "mean   59391.000000    3915.995109       3.855617         0.879040      5.0\n",
       "std     9083.307446   12515.462713       7.214877         0.326086      0.0\n",
       "min    43659.000000       1.518300       1.000000         0.000000      5.0\n",
       "25%    51525.000000      62.951900       1.000000         1.000000      5.0\n",
       "50%    59391.000000     865.204000       2.000000         1.000000      5.0\n",
       "75%    67257.000000    2615.490800       3.000000         1.000000      5.0\n",
       "max    75123.000000  187487.825000      72.000000         1.000000      5.0"
      ]
     },
     "execution_count": 68,
     "metadata": {},
     "output_type": "execute_result"
    }
   ],
   "source": [
    "# Understand distribution of sales data\n",
    "sales.describe()"
   ]
  },
  {
   "cell_type": "code",
   "execution_count": 69,
   "metadata": {
    "colab": {
     "base_uri": "https://localhost:8080/",
     "height": 51
    },
    "colab_type": "code",
    "id": "Zv7IKkZ74Kzr",
    "outputId": "6602b5f7-0de2-48c7-c693-43110129cd5f"
   },
   "outputs": [
    {
     "name": "stdout",
     "output_type": "stream",
     "text": [
      "[5]\n",
      "[0 1]\n"
     ]
    }
   ],
   "source": [
    "# Make sure Status column has no other unique values\n",
    "print(sales['Status'].unique())\n",
    "print(sales['OnlineOrderFlag'].unique())"
   ]
  },
  {
   "cell_type": "code",
   "execution_count": 70,
   "metadata": {
    "colab": {
     "base_uri": "https://localhost:8080/",
     "height": 187
    },
    "colab_type": "code",
    "id": "4LXx9pOH4Lem",
    "outputId": "4ae0dc91-5acb-409e-9da3-5347521fdfd7"
   },
   "outputs": [
    {
     "name": "stdout",
     "output_type": "stream",
     "text": [
      "<class 'pandas.core.frame.DataFrame'>\n",
      "RangeIndex: 31465 entries, 0 to 31464\n",
      "Data columns (total 3 columns):\n",
      " #   Column        Non-Null Count  Dtype \n",
      "---  ------        --------------  ----- \n",
      " 0   SalesOrderID  31465 non-null  int64 \n",
      " 1   OrderDate     31465 non-null  object\n",
      " 2   ShipDate      31465 non-null  object\n",
      "dtypes: int64(1), object(2)\n",
      "memory usage: 737.6+ KB\n"
     ]
    }
   ],
   "source": [
    "# Understand column types of dates and missingness\n",
    "dates.info()"
   ]
  },
  {
   "cell_type": "code",
   "execution_count": 71,
   "metadata": {
    "colab": {
     "base_uri": "https://localhost:8080/",
     "height": 238
    },
    "colab_type": "code",
    "id": "Di0X2oT04Lcd",
    "outputId": "2bd13893-259f-432a-c6e0-d1706b14a2e0"
   },
   "outputs": [
    {
     "name": "stdout",
     "output_type": "stream",
     "text": [
      "<class 'pandas.core.frame.DataFrame'>\n",
      "RangeIndex: 31465 entries, 0 to 31464\n",
      "Data columns (total 6 columns):\n",
      " #   Column             Non-Null Count  Dtype \n",
      "---  ------             --------------  ----- \n",
      " 0   SalesOrderID       31465 non-null  int64 \n",
      " 1   CustomerFirstName  17463 non-null  object\n",
      " 2   CustomerLastName   17463 non-null  object\n",
      " 3   EmployeeFirstName  3806 non-null   object\n",
      " 4   EmployeeLastName   3806 non-null   object\n",
      " 5   ChannelType        17463 non-null  object\n",
      "dtypes: int64(1), object(5)\n",
      "memory usage: 1.4+ MB\n"
     ]
    }
   ],
   "source": [
    "# Let's understand the degree of missingness in customers dataset\n",
    "customers.info()"
   ]
  },
  {
   "cell_type": "code",
   "execution_count": 72,
   "metadata": {
    "colab": {
     "base_uri": "https://localhost:8080/",
     "height": 136
    },
    "colab_type": "code",
    "id": "RPAMIxLxS7aO",
    "outputId": "70f19763-adc3-4e33-da2d-f8dcfd435319"
   },
   "outputs": [
    {
     "data": {
      "text/plain": [
       "SalesOrderID             0\n",
       "CustomerFirstName    14002\n",
       "CustomerLastName     14002\n",
       "EmployeeFirstName    27659\n",
       "EmployeeLastName     27659\n",
       "ChannelType          14002\n",
       "dtype: int64"
      ]
     },
     "execution_count": 72,
     "metadata": {},
     "output_type": "execute_result"
    }
   ],
   "source": [
    "# How to find missing values?\n",
    "customers.isna().sum()"
   ]
  },
  {
   "cell_type": "markdown",
   "metadata": {
    "colab_type": "text",
    "id": "W23hMUxKErvf"
   },
   "source": [
    "## **Making our data analysis ready**\n"
   ]
  },
  {
   "cell_type": "code",
   "execution_count": 73,
   "metadata": {
    "colab": {
     "base_uri": "https://localhost:8080/",
     "height": 204
    },
    "colab_type": "code",
    "id": "6wZ7nyJj4LaW",
    "outputId": "fc8c3961-691d-4d17-b966-54de9ad47ba6"
   },
   "outputs": [
    {
     "name": "stdout",
     "output_type": "stream",
     "text": [
      "<class 'pandas.core.frame.DataFrame'>\n",
      "RangeIndex: 31465 entries, 0 to 31464\n",
      "Data columns (total 4 columns):\n",
      " #   Column           Non-Null Count  Dtype  \n",
      "---  ------           --------------  -----  \n",
      " 0   SalesOrderID     31465 non-null  int64  \n",
      " 1   TotalDue         31465 non-null  float64\n",
      " 2   NumberofItems    31465 non-null  int64  \n",
      " 3   OnlineOrderFlag  31465 non-null  int64  \n",
      "dtypes: float64(1), int64(3)\n",
      "memory usage: 983.4 KB\n"
     ]
    }
   ],
   "source": [
    "# Drop status column from sales\n",
    "sales.drop('Status', axis=1, inplace=True)\n",
    "sales.info()"
   ]
  },
  {
   "cell_type": "markdown",
   "metadata": {
    "colab_type": "text",
    "id": "0Ct6r5WXhVDS"
   },
   "source": [
    "***A note on dictionaries***\n",
    "\n",
    "Dictionaries are useful data structures in Python with the following format `my_dictionary = {key: value}` where a key is mapped to a value and whose value can be returned with `my_dictionary[key]`.\n"
   ]
  },
  {
   "cell_type": "code",
   "execution_count": 74,
   "metadata": {
    "colab": {
     "base_uri": "https://localhost:8080/",
     "height": 35
    },
    "colab_type": "code",
    "id": "KF6zCX3qhbJu",
    "outputId": "7e787498-cd4b-4bcd-b308-fcd1d05f04b3"
   },
   "outputs": [
    {
     "data": {
      "text/plain": [
       "'Adel'"
      ]
     },
     "execution_count": 74,
     "metadata": {},
     "output_type": "execute_result"
    }
   ],
   "source": [
    "# Example\n",
    "names = {'first_name':'Adel',\n",
    "         'last_name': 'Nehme'}\n",
    "\n",
    "names['first_name']"
   ]
  },
  {
   "cell_type": "code",
   "execution_count": 75,
   "metadata": {
    "colab": {
     "base_uri": "https://localhost:8080/",
     "height": 34
    },
    "colab_type": "code",
    "id": "3b1XNVRd4LY8",
    "outputId": "1ddcc283-3a85-4bbe-873c-e9ad0a7ae8bb"
   },
   "outputs": [
    {
     "name": "stdout",
     "output_type": "stream",
     "text": [
      "['offline' 'online']\n"
     ]
    }
   ],
   "source": [
    "# Replace OnlineOrderFlag to offline and online\n",
    "sales['OnlineOrderFlag'] = sales['OnlineOrderFlag'].replace({0: 'offline',\n",
    "                                                             1: 'online'})\n",
    "\n",
    "# Make sure it is the case\n",
    "print(sales['OnlineOrderFlag'].unique())"
   ]
  },
  {
   "cell_type": "code",
   "execution_count": 76,
   "metadata": {
    "colab": {},
    "colab_type": "code",
    "id": "SjRVVWDk4LWI"
   },
   "outputs": [],
   "source": [
    "# Convert data columns to datetime while keeping only Y,m,d\n",
    "dates['OrderDate'] = pd.to_datetime(dates['OrderDate'], format='%Y-%m-%d')\n",
    "dates['ShipDate'] = pd.to_datetime(dates['ShipDate'], format='%Y-%m-%d')\n"
   ]
  },
  {
   "cell_type": "code",
   "execution_count": 77,
   "metadata": {
    "colab": {
     "base_uri": "https://localhost:8080/",
     "height": 187
    },
    "colab_type": "code",
    "id": "LXUpSdHX4LSq",
    "outputId": "ccb91f5f-8c6f-49cc-c3a5-0ff9d8a9c165"
   },
   "outputs": [
    {
     "name": "stdout",
     "output_type": "stream",
     "text": [
      "<class 'pandas.core.frame.DataFrame'>\n",
      "RangeIndex: 31465 entries, 0 to 31464\n",
      "Data columns (total 3 columns):\n",
      " #   Column        Non-Null Count  Dtype         \n",
      "---  ------        --------------  -----         \n",
      " 0   SalesOrderID  31465 non-null  int64         \n",
      " 1   OrderDate     31465 non-null  datetime64[ns]\n",
      " 2   ShipDate      31465 non-null  datetime64[ns]\n",
      "dtypes: datetime64[ns](2), int64(1)\n",
      "memory usage: 737.6 KB\n"
     ]
    }
   ],
   "source": [
    "# Make sure now into datetime\n",
    "dates.info()"
   ]
  },
  {
   "cell_type": "code",
   "execution_count": 78,
   "metadata": {
    "colab": {},
    "colab_type": "code",
    "id": "u1ND9J_54LNq"
   },
   "outputs": [],
   "source": [
    "# Impute missing values based on key business assumptions\n",
    "customers.loc[customers['EmployeeFirstName'].isnull(), 'ChannelType'] = 'B2C'\n",
    "customers.loc[customers['EmployeeFirstName'].notnull(), 'ChannelType'] = 'B2B'"
   ]
  },
  {
   "cell_type": "code",
   "execution_count": 79,
   "metadata": {
    "colab": {
     "base_uri": "https://localhost:8080/",
     "height": 136
    },
    "colab_type": "code",
    "id": "3KxSjVAU4LLF",
    "outputId": "14303101-90ff-46eb-9f98-9b9b264afb02"
   },
   "outputs": [
    {
     "data": {
      "text/plain": [
       "SalesOrderID             0\n",
       "CustomerFirstName    14002\n",
       "CustomerLastName     14002\n",
       "EmployeeFirstName    27659\n",
       "EmployeeLastName     27659\n",
       "ChannelType              0\n",
       "dtype: int64"
      ]
     },
     "execution_count": 79,
     "metadata": {},
     "output_type": "execute_result"
    }
   ],
   "source": [
    "# Make sure no more missing data in ChannelType\n",
    "customers.isna().sum()"
   ]
  },
  {
   "cell_type": "code",
   "execution_count": 80,
   "metadata": {
    "colab": {
     "base_uri": "https://localhost:8080/",
     "height": 204
    },
    "colab_type": "code",
    "id": "BBPuJn114LIW",
    "outputId": "a4decd14-0165-4e6f-8c04-e5b5304ae0b2"
   },
   "outputs": [
    {
     "data": {
      "text/html": [
       "<div>\n",
       "<style scoped>\n",
       "    .dataframe tbody tr th:only-of-type {\n",
       "        vertical-align: middle;\n",
       "    }\n",
       "\n",
       "    .dataframe tbody tr th {\n",
       "        vertical-align: top;\n",
       "    }\n",
       "\n",
       "    .dataframe thead th {\n",
       "        text-align: right;\n",
       "    }\n",
       "</style>\n",
       "<table border=\"1\" class=\"dataframe\">\n",
       "  <thead>\n",
       "    <tr style=\"text-align: right;\">\n",
       "      <th></th>\n",
       "      <th>SalesOrderID</th>\n",
       "      <th>CustomerFirstName</th>\n",
       "      <th>CustomerLastName</th>\n",
       "      <th>EmployeeFirstName</th>\n",
       "      <th>EmployeeLastName</th>\n",
       "      <th>ChannelType</th>\n",
       "      <th>FullName</th>\n",
       "    </tr>\n",
       "  </thead>\n",
       "  <tbody>\n",
       "    <tr>\n",
       "      <th>0</th>\n",
       "      <td>43659</td>\n",
       "      <td>NaN</td>\n",
       "      <td>NaN</td>\n",
       "      <td>Tsvi</td>\n",
       "      <td>Reiter</td>\n",
       "      <td>B2B</td>\n",
       "      <td>Tsvi Reiter</td>\n",
       "    </tr>\n",
       "    <tr>\n",
       "      <th>1</th>\n",
       "      <td>43660</td>\n",
       "      <td>NaN</td>\n",
       "      <td>NaN</td>\n",
       "      <td>Tsvi</td>\n",
       "      <td>Reiter</td>\n",
       "      <td>B2B</td>\n",
       "      <td>Tsvi Reiter</td>\n",
       "    </tr>\n",
       "    <tr>\n",
       "      <th>2</th>\n",
       "      <td>43661</td>\n",
       "      <td>NaN</td>\n",
       "      <td>NaN</td>\n",
       "      <td>José</td>\n",
       "      <td>Saraiva</td>\n",
       "      <td>B2B</td>\n",
       "      <td>José Saraiva</td>\n",
       "    </tr>\n",
       "    <tr>\n",
       "      <th>3</th>\n",
       "      <td>43662</td>\n",
       "      <td>NaN</td>\n",
       "      <td>NaN</td>\n",
       "      <td>José</td>\n",
       "      <td>Saraiva</td>\n",
       "      <td>B2B</td>\n",
       "      <td>José Saraiva</td>\n",
       "    </tr>\n",
       "    <tr>\n",
       "      <th>4</th>\n",
       "      <td>43663</td>\n",
       "      <td>NaN</td>\n",
       "      <td>NaN</td>\n",
       "      <td>Linda</td>\n",
       "      <td>Mitchell</td>\n",
       "      <td>B2B</td>\n",
       "      <td>Linda Mitchell</td>\n",
       "    </tr>\n",
       "  </tbody>\n",
       "</table>\n",
       "</div>"
      ],
      "text/plain": [
       "   SalesOrderID CustomerFirstName CustomerLastName EmployeeFirstName  \\\n",
       "0         43659               NaN              NaN              Tsvi   \n",
       "1         43660               NaN              NaN              Tsvi   \n",
       "2         43661               NaN              NaN              José   \n",
       "3         43662               NaN              NaN              José   \n",
       "4         43663               NaN              NaN             Linda   \n",
       "\n",
       "  EmployeeLastName ChannelType        FullName  \n",
       "0           Reiter         B2B     Tsvi Reiter  \n",
       "1           Reiter         B2B     Tsvi Reiter  \n",
       "2          Saraiva         B2B    José Saraiva  \n",
       "3          Saraiva         B2B    José Saraiva  \n",
       "4         Mitchell         B2B  Linda Mitchell  "
      ]
     },
     "execution_count": 80,
     "metadata": {},
     "output_type": "execute_result"
    }
   ],
   "source": [
    "# Combine first and last name in customers\n",
    "customers['FullName'] = customers['EmployeeFirstName'] + ' ' + customers['EmployeeLastName']\n",
    "customers.head()"
   ]
  },
  {
   "cell_type": "code",
   "execution_count": 81,
   "metadata": {
    "colab": {
     "base_uri": "https://localhost:8080/",
     "height": 204
    },
    "colab_type": "code",
    "id": "uL_a6Z3irY7G",
    "outputId": "d7ea09a2-990e-456a-af72-6140ecd6a6c0"
   },
   "outputs": [
    {
     "data": {
      "text/html": [
       "<div>\n",
       "<style scoped>\n",
       "    .dataframe tbody tr th:only-of-type {\n",
       "        vertical-align: middle;\n",
       "    }\n",
       "\n",
       "    .dataframe tbody tr th {\n",
       "        vertical-align: top;\n",
       "    }\n",
       "\n",
       "    .dataframe thead th {\n",
       "        text-align: right;\n",
       "    }\n",
       "</style>\n",
       "<table border=\"1\" class=\"dataframe\">\n",
       "  <thead>\n",
       "    <tr style=\"text-align: right;\">\n",
       "      <th></th>\n",
       "      <th>FirstName</th>\n",
       "      <th>LastName</th>\n",
       "      <th>CountryCode</th>\n",
       "      <th>RegionName</th>\n",
       "      <th>CommissionPct</th>\n",
       "      <th>FullName</th>\n",
       "    </tr>\n",
       "  </thead>\n",
       "  <tbody>\n",
       "    <tr>\n",
       "      <th>0</th>\n",
       "      <td>Amy</td>\n",
       "      <td>Alberts</td>\n",
       "      <td>GB</td>\n",
       "      <td>United Kingdom</td>\n",
       "      <td>0.000</td>\n",
       "      <td>Amy Alberts</td>\n",
       "    </tr>\n",
       "    <tr>\n",
       "      <th>1</th>\n",
       "      <td>David</td>\n",
       "      <td>Campbell</td>\n",
       "      <td>US</td>\n",
       "      <td>Northwest</td>\n",
       "      <td>0.012</td>\n",
       "      <td>David Campbell</td>\n",
       "    </tr>\n",
       "    <tr>\n",
       "      <th>2</th>\n",
       "      <td>Garrett</td>\n",
       "      <td>Vargas</td>\n",
       "      <td>CA</td>\n",
       "      <td>Canada</td>\n",
       "      <td>0.010</td>\n",
       "      <td>Garrett Vargas</td>\n",
       "    </tr>\n",
       "    <tr>\n",
       "      <th>3</th>\n",
       "      <td>Jae</td>\n",
       "      <td>Pak</td>\n",
       "      <td>CA</td>\n",
       "      <td>Canada</td>\n",
       "      <td>0.020</td>\n",
       "      <td>Jae Pak</td>\n",
       "    </tr>\n",
       "    <tr>\n",
       "      <th>4</th>\n",
       "      <td>Jillian</td>\n",
       "      <td>Carson</td>\n",
       "      <td>US</td>\n",
       "      <td>Southwest</td>\n",
       "      <td>0.015</td>\n",
       "      <td>Jillian Carson</td>\n",
       "    </tr>\n",
       "  </tbody>\n",
       "</table>\n",
       "</div>"
      ],
      "text/plain": [
       "  FirstName  LastName CountryCode      RegionName  CommissionPct  \\\n",
       "0       Amy   Alberts          GB  United Kingdom          0.000   \n",
       "1     David  Campbell          US       Northwest          0.012   \n",
       "2   Garrett    Vargas          CA          Canada          0.010   \n",
       "3       Jae       Pak          CA          Canada          0.020   \n",
       "4   Jillian    Carson          US       Southwest          0.015   \n",
       "\n",
       "         FullName  \n",
       "0     Amy Alberts  \n",
       "1  David Campbell  \n",
       "2  Garrett Vargas  \n",
       "3         Jae Pak  \n",
       "4  Jillian Carson  "
      ]
     },
     "execution_count": 81,
     "metadata": {},
     "output_type": "execute_result"
    }
   ],
   "source": [
    "# Combine first and last name in employees\n",
    "employees['FullName'] = employees['FirstName'] + ' ' + employees['LastName']\n",
    "employees.head()\n"
   ]
  },
  {
   "cell_type": "markdown",
   "metadata": {
    "colab_type": "text",
    "id": "AOuJPAJO5N1t"
   },
   "source": [
    "### Q&A time!"
   ]
  },
  {
   "cell_type": "markdown",
   "metadata": {
    "colab_type": "text",
    "id": "qW0SStg_E-nJ"
   },
   "source": [
    "## **Case studies**"
   ]
  },
  {
   "cell_type": "markdown",
   "metadata": {
    "colab_type": "text",
    "id": "GDQpEkCImzL9"
   },
   "source": [
    "### _Q1: How did we do in revenue over the years?_"
   ]
  },
  {
   "cell_type": "markdown",
   "metadata": {
    "colab_type": "text",
    "id": "mfBFUvPQXZyZ"
   },
   "source": [
    "Since we have revenue data for each `SalesOrderID` in the `sales` sheet - and the order date and ship date for each `SalesOrderID` in hte `dates` sheet - we want to combine both DataFrames similar to how a VLOOKUP would work. \n",
    "\n",
    "<br>\n",
    "\n",
    "<p align=\"center\">\n",
    "<img src=\"https://github.com/adelnehme/python-for-excel-users-webinar/blob/master/pivots.png?raw=True\" alt = \"pivot\" width=\"70%\">\n",
    "</p>\n",
    "\n",
    "<br><br>\n",
    "\n",
    "In more technical terms, we want to perform of left join of both DataFrames where `SalesOrderId` is a common column between them.\n",
    "\n",
    "\n",
    "<p align=\"center\">\n",
    "<img src=\"https://github.com/adelnehme/python-for-excel-users-webinar/blob/master/left_join.png?raw=True\" alt = \"DataCamp icon\" width=\"50%\">\n",
    "</p>\n",
    "\n",
    "\n",
    "\n",
    "\n",
    "\n",
    "An example of how to merge a DataFrame in pandas is included below with the `.merge()` method, where we are merging `df_2` into `df_1` on a common column between them called `common_column`. The `how` argument determines which DataFrame to preserve - in this case it's `df_1` since it's on the **left**. This has the same logic as SQL joins as well.\n",
    "\n",
    "`df_1.merge(df_2, on = 'common_column', how = 'left')`\n"
   ]
  },
  {
   "cell_type": "code",
   "execution_count": 82,
   "metadata": {
    "colab": {
     "base_uri": "https://localhost:8080/",
     "height": 204
    },
    "colab_type": "code",
    "id": "GdhvX_CB4LF5",
    "outputId": "91a5e67f-0c40-47a5-dd63-e37edc22a65d"
   },
   "outputs": [
    {
     "data": {
      "text/html": [
       "<div>\n",
       "<style scoped>\n",
       "    .dataframe tbody tr th:only-of-type {\n",
       "        vertical-align: middle;\n",
       "    }\n",
       "\n",
       "    .dataframe tbody tr th {\n",
       "        vertical-align: top;\n",
       "    }\n",
       "\n",
       "    .dataframe thead th {\n",
       "        text-align: right;\n",
       "    }\n",
       "</style>\n",
       "<table border=\"1\" class=\"dataframe\">\n",
       "  <thead>\n",
       "    <tr style=\"text-align: right;\">\n",
       "      <th></th>\n",
       "      <th>SalesOrderID</th>\n",
       "      <th>TotalDue</th>\n",
       "      <th>NumberofItems</th>\n",
       "      <th>OnlineOrderFlag</th>\n",
       "      <th>OrderDate</th>\n",
       "      <th>ShipDate</th>\n",
       "    </tr>\n",
       "  </thead>\n",
       "  <tbody>\n",
       "    <tr>\n",
       "      <th>0</th>\n",
       "      <td>43659</td>\n",
       "      <td>23153.2339</td>\n",
       "      <td>12</td>\n",
       "      <td>offline</td>\n",
       "      <td>2011-05-31</td>\n",
       "      <td>2011-06-07</td>\n",
       "    </tr>\n",
       "    <tr>\n",
       "      <th>1</th>\n",
       "      <td>43660</td>\n",
       "      <td>1457.3288</td>\n",
       "      <td>2</td>\n",
       "      <td>offline</td>\n",
       "      <td>2011-05-31</td>\n",
       "      <td>2011-06-07</td>\n",
       "    </tr>\n",
       "    <tr>\n",
       "      <th>2</th>\n",
       "      <td>43661</td>\n",
       "      <td>36865.8012</td>\n",
       "      <td>15</td>\n",
       "      <td>offline</td>\n",
       "      <td>2011-05-31</td>\n",
       "      <td>2011-06-07</td>\n",
       "    </tr>\n",
       "    <tr>\n",
       "      <th>3</th>\n",
       "      <td>43662</td>\n",
       "      <td>32474.9324</td>\n",
       "      <td>22</td>\n",
       "      <td>offline</td>\n",
       "      <td>2011-05-31</td>\n",
       "      <td>2011-06-07</td>\n",
       "    </tr>\n",
       "    <tr>\n",
       "      <th>4</th>\n",
       "      <td>43663</td>\n",
       "      <td>472.3108</td>\n",
       "      <td>1</td>\n",
       "      <td>offline</td>\n",
       "      <td>2011-05-31</td>\n",
       "      <td>2011-06-07</td>\n",
       "    </tr>\n",
       "  </tbody>\n",
       "</table>\n",
       "</div>"
      ],
      "text/plain": [
       "   SalesOrderID    TotalDue  NumberofItems OnlineOrderFlag  OrderDate  \\\n",
       "0         43659  23153.2339             12         offline 2011-05-31   \n",
       "1         43660   1457.3288              2         offline 2011-05-31   \n",
       "2         43661  36865.8012             15         offline 2011-05-31   \n",
       "3         43662  32474.9324             22         offline 2011-05-31   \n",
       "4         43663    472.3108              1         offline 2011-05-31   \n",
       "\n",
       "    ShipDate  \n",
       "0 2011-06-07  \n",
       "1 2011-06-07  \n",
       "2 2011-06-07  \n",
       "3 2011-06-07  \n",
       "4 2011-06-07  "
      ]
     },
     "execution_count": 82,
     "metadata": {},
     "output_type": "execute_result"
    }
   ],
   "source": [
    "# Merge data - the VLOOKUP of Excel\n",
    "sales_date = sales.merge(dates, on='SalesOrderID', how='left')\n",
    "sales_date.head()"
   ]
  },
  {
   "cell_type": "code",
   "execution_count": 83,
   "metadata": {
    "colab": {
     "base_uri": "https://localhost:8080/",
     "height": 204
    },
    "colab_type": "code",
    "id": "2L-Efjpx4LDN",
    "outputId": "8cbba8fc-7801-4f91-b1af-9771925e342f"
   },
   "outputs": [
    {
     "data": {
      "text/html": [
       "<div>\n",
       "<style scoped>\n",
       "    .dataframe tbody tr th:only-of-type {\n",
       "        vertical-align: middle;\n",
       "    }\n",
       "\n",
       "    .dataframe tbody tr th {\n",
       "        vertical-align: top;\n",
       "    }\n",
       "\n",
       "    .dataframe thead th {\n",
       "        text-align: right;\n",
       "    }\n",
       "</style>\n",
       "<table border=\"1\" class=\"dataframe\">\n",
       "  <thead>\n",
       "    <tr style=\"text-align: right;\">\n",
       "      <th></th>\n",
       "      <th>SalesOrderID</th>\n",
       "      <th>TotalDue</th>\n",
       "      <th>NumberofItems</th>\n",
       "      <th>OnlineOrderFlag</th>\n",
       "      <th>OrderDate</th>\n",
       "      <th>ShipDate</th>\n",
       "      <th>Order_Year</th>\n",
       "      <th>Order_YM</th>\n",
       "    </tr>\n",
       "  </thead>\n",
       "  <tbody>\n",
       "    <tr>\n",
       "      <th>0</th>\n",
       "      <td>43659</td>\n",
       "      <td>23153.2339</td>\n",
       "      <td>12</td>\n",
       "      <td>offline</td>\n",
       "      <td>2011-05-31</td>\n",
       "      <td>2011-06-07</td>\n",
       "      <td>2011</td>\n",
       "      <td>2011-05</td>\n",
       "    </tr>\n",
       "    <tr>\n",
       "      <th>1</th>\n",
       "      <td>43660</td>\n",
       "      <td>1457.3288</td>\n",
       "      <td>2</td>\n",
       "      <td>offline</td>\n",
       "      <td>2011-05-31</td>\n",
       "      <td>2011-06-07</td>\n",
       "      <td>2011</td>\n",
       "      <td>2011-05</td>\n",
       "    </tr>\n",
       "    <tr>\n",
       "      <th>2</th>\n",
       "      <td>43661</td>\n",
       "      <td>36865.8012</td>\n",
       "      <td>15</td>\n",
       "      <td>offline</td>\n",
       "      <td>2011-05-31</td>\n",
       "      <td>2011-06-07</td>\n",
       "      <td>2011</td>\n",
       "      <td>2011-05</td>\n",
       "    </tr>\n",
       "    <tr>\n",
       "      <th>3</th>\n",
       "      <td>43662</td>\n",
       "      <td>32474.9324</td>\n",
       "      <td>22</td>\n",
       "      <td>offline</td>\n",
       "      <td>2011-05-31</td>\n",
       "      <td>2011-06-07</td>\n",
       "      <td>2011</td>\n",
       "      <td>2011-05</td>\n",
       "    </tr>\n",
       "    <tr>\n",
       "      <th>4</th>\n",
       "      <td>43663</td>\n",
       "      <td>472.3108</td>\n",
       "      <td>1</td>\n",
       "      <td>offline</td>\n",
       "      <td>2011-05-31</td>\n",
       "      <td>2011-06-07</td>\n",
       "      <td>2011</td>\n",
       "      <td>2011-05</td>\n",
       "    </tr>\n",
       "  </tbody>\n",
       "</table>\n",
       "</div>"
      ],
      "text/plain": [
       "   SalesOrderID    TotalDue  NumberofItems OnlineOrderFlag  OrderDate  \\\n",
       "0         43659  23153.2339             12         offline 2011-05-31   \n",
       "1         43660   1457.3288              2         offline 2011-05-31   \n",
       "2         43661  36865.8012             15         offline 2011-05-31   \n",
       "3         43662  32474.9324             22         offline 2011-05-31   \n",
       "4         43663    472.3108              1         offline 2011-05-31   \n",
       "\n",
       "    ShipDate  Order_Year Order_YM  \n",
       "0 2011-06-07        2011  2011-05  \n",
       "1 2011-06-07        2011  2011-05  \n",
       "2 2011-06-07        2011  2011-05  \n",
       "3 2011-06-07        2011  2011-05  \n",
       "4 2011-06-07        2011  2011-05  "
      ]
     },
     "execution_count": 83,
     "metadata": {},
     "output_type": "execute_result"
    }
   ],
   "source": [
    "# Create column for year and month\n",
    "sales_date['Order_Year'] = sales_date['OrderDate'].dt.year\n",
    "sales_date['Order_YM'] = sales_date['OrderDate'].dt.strftime('%Y-%m')\n",
    "sales_date.head()"
   ]
  },
  {
   "cell_type": "markdown",
   "metadata": {
    "colab_type": "text",
    "id": "j8YLYLe4Zs_d"
   },
   "source": [
    "To calculate the total revenue per year, we need to perform something like a PIVOT TABLE in Excel. In pandas, there's a variety of ways to acheive this - there is even a `.pivot_table()` method. However we will be using instead the `.groupby()` method which takes in as argument the column name being grouped by, and can be chained with other methods to compute interesting statistics. Here's an example of grouping by the column `col_A` of the example DataFrame `df_1` and computing the sum of the remaining columns:\n",
    "\n",
    "`df_1.groupby('col_A').sum()`"
   ]
  },
  {
   "cell_type": "code",
   "execution_count": 84,
   "metadata": {
    "colab": {
     "base_uri": "https://localhost:8080/",
     "height": 173
    },
    "colab_type": "code",
    "id": "NLpVQ5OY4LAp",
    "outputId": "bdf0d1fe-9dca-4d0d-80ec-52992948854a"
   },
   "outputs": [
    {
     "data": {
      "text/html": [
       "<div>\n",
       "<style scoped>\n",
       "    .dataframe tbody tr th:only-of-type {\n",
       "        vertical-align: middle;\n",
       "    }\n",
       "\n",
       "    .dataframe tbody tr th {\n",
       "        vertical-align: top;\n",
       "    }\n",
       "\n",
       "    .dataframe thead th {\n",
       "        text-align: right;\n",
       "    }\n",
       "</style>\n",
       "<table border=\"1\" class=\"dataframe\">\n",
       "  <thead>\n",
       "    <tr style=\"text-align: right;\">\n",
       "      <th></th>\n",
       "      <th>Order_Year</th>\n",
       "      <th>SalesOrderID</th>\n",
       "      <th>TotalDue</th>\n",
       "      <th>NumberofItems</th>\n",
       "    </tr>\n",
       "  </thead>\n",
       "  <tbody>\n",
       "    <tr>\n",
       "      <th>0</th>\n",
       "      <td>2011</td>\n",
       "      <td>71450434</td>\n",
       "      <td>1.415570e+07</td>\n",
       "      <td>5716</td>\n",
       "    </tr>\n",
       "    <tr>\n",
       "      <th>1</th>\n",
       "      <td>2012</td>\n",
       "      <td>184878045</td>\n",
       "      <td>3.767570e+07</td>\n",
       "      <td>21689</td>\n",
       "    </tr>\n",
       "    <tr>\n",
       "      <th>2</th>\n",
       "      <td>2013</td>\n",
       "      <td>798042413</td>\n",
       "      <td>4.896589e+07</td>\n",
       "      <td>56573</td>\n",
       "    </tr>\n",
       "    <tr>\n",
       "      <th>3</th>\n",
       "      <td>2014</td>\n",
       "      <td>814366923</td>\n",
       "      <td>2.241950e+07</td>\n",
       "      <td>37339</td>\n",
       "    </tr>\n",
       "  </tbody>\n",
       "</table>\n",
       "</div>"
      ],
      "text/plain": [
       "   Order_Year  SalesOrderID      TotalDue  NumberofItems\n",
       "0        2011      71450434  1.415570e+07           5716\n",
       "1        2012     184878045  3.767570e+07          21689\n",
       "2        2013     798042413  4.896589e+07          56573\n",
       "3        2014     814366923  2.241950e+07          37339"
      ]
     },
     "execution_count": 84,
     "metadata": {},
     "output_type": "execute_result"
    }
   ],
   "source": [
    "# Extract revenue by year\n",
    "sales_by_year = sales_date.groupby('Order_Year').sum().reset_index()\n",
    "sales_by_year"
   ]
  },
  {
   "cell_type": "markdown",
   "metadata": {
    "colab_type": "text",
    "id": "0Cp3cw-ha_rV"
   },
   "source": [
    "There are many ways to perform visualizations in Python - the two most widely used visualization packages are `seaborn` (which is usually imported as `sns`) and `matplotlib.pyplot` (which is usually imported as `plt`). \n",
    "\n",
    "Without going into the details, we will be creating and customizing two types of visualizations in this notebook by using these functions:\n",
    "\n",
    "- Barplots using `sns.barplot(x=,y=,data=)`\n",
    "  - `x`: The column name to be used on the x-axis.\n",
    "  - `y`: The column name to be used on the y-axis.\n",
    "  - `data`: The data used to visualize\n",
    "- Lineplots using `sns.lineplot(x=,y=,data=)`\n",
    "  - `x`: The column name to be used on the x-axis.\n",
    "  - `y`: The column name to be used on the y-axis.\n",
    "  - `data`: The data used to visualize\n",
    "- Setting figure labels by:\n",
    "  - `plt.xlabel()` to set the x-axis label.\n",
    "  - `plt.ylabel()` to set the y-axis label.\n",
    "  - `plt.title()` to set the x-axis label.\n",
    "  - `plt.xticks(rotation=)` to set the x-axis ticks with proper rotation\n",
    "- Showing the plot with `plt.show()`"
   ]
  },
  {
   "cell_type": "code",
   "execution_count": 85,
   "metadata": {
    "colab": {
     "base_uri": "https://localhost:8080/",
     "height": 295
    },
    "colab_type": "code",
    "id": "Ns-Vc_GS4K-b",
    "outputId": "d9607b4a-f8ed-4b75-c470-2b6cb868db51"
   },
   "outputs": [
    {
     "data": {
      "image/png": "[encoded data removed]",
      "text/plain": [
       "<Figure size 432x288 with 1 Axes>"
      ]
     },
     "metadata": {
      "needs_background": "light"
     },
     "output_type": "display_data"
    }
   ],
   "source": [
    "# Visualize it\n",
    "sns.barplot(x='Order_Year', y='TotalDue', data=sales_by_year)\n",
    "plt.xlabel('Years')\n",
    "plt.ylabel('Revenue')\n",
    "plt.title('Revenue over the years')\n",
    "plt.show()"
   ]
  },
  {
   "cell_type": "code",
   "execution_count": 86,
   "metadata": {
    "colab": {
     "base_uri": "https://localhost:8080/",
     "height": 204
    },
    "colab_type": "code",
    "id": "pTdxEPc94K82",
    "outputId": "5c2f1cd4-d65a-472a-81e2-eddd7689acf6"
   },
   "outputs": [
    {
     "data": {
      "text/html": [
       "<div>\n",
       "<style scoped>\n",
       "    .dataframe tbody tr th:only-of-type {\n",
       "        vertical-align: middle;\n",
       "    }\n",
       "\n",
       "    .dataframe tbody tr th {\n",
       "        vertical-align: top;\n",
       "    }\n",
       "\n",
       "    .dataframe thead th {\n",
       "        text-align: right;\n",
       "    }\n",
       "</style>\n",
       "<table border=\"1\" class=\"dataframe\">\n",
       "  <thead>\n",
       "    <tr style=\"text-align: right;\">\n",
       "      <th></th>\n",
       "      <th>Order_YM</th>\n",
       "      <th>SalesOrderID</th>\n",
       "      <th>TotalDue</th>\n",
       "      <th>NumberofItems</th>\n",
       "      <th>Order_Year</th>\n",
       "    </tr>\n",
       "  </thead>\n",
       "  <tbody>\n",
       "    <tr>\n",
       "      <th>0</th>\n",
       "      <td>2011-05</td>\n",
       "      <td>1878240</td>\n",
       "      <td>5.670209e+05</td>\n",
       "      <td>357</td>\n",
       "      <td>86473</td>\n",
       "    </tr>\n",
       "    <tr>\n",
       "      <th>1</th>\n",
       "      <td>2011-06</td>\n",
       "      <td>6171852</td>\n",
       "      <td>5.070965e+05</td>\n",
       "      <td>141</td>\n",
       "      <td>283551</td>\n",
       "    </tr>\n",
       "    <tr>\n",
       "      <th>2</th>\n",
       "      <td>2011-07</td>\n",
       "      <td>10154298</td>\n",
       "      <td>2.292183e+06</td>\n",
       "      <td>941</td>\n",
       "      <td>464541</td>\n",
       "    </tr>\n",
       "    <tr>\n",
       "      <th>3</th>\n",
       "      <td>2011-08</td>\n",
       "      <td>11049625</td>\n",
       "      <td>2.800576e+06</td>\n",
       "      <td>1242</td>\n",
       "      <td>502750</td>\n",
       "    </tr>\n",
       "    <tr>\n",
       "      <th>4</th>\n",
       "      <td>2011-09</td>\n",
       "      <td>6971114</td>\n",
       "      <td>5.547916e+05</td>\n",
       "      <td>157</td>\n",
       "      <td>315727</td>\n",
       "    </tr>\n",
       "  </tbody>\n",
       "</table>\n",
       "</div>"
      ],
      "text/plain": [
       "  Order_YM  SalesOrderID      TotalDue  NumberofItems  Order_Year\n",
       "0  2011-05       1878240  5.670209e+05            357       86473\n",
       "1  2011-06       6171852  5.070965e+05            141      283551\n",
       "2  2011-07      10154298  2.292183e+06            941      464541\n",
       "3  2011-08      11049625  2.800576e+06           1242      502750\n",
       "4  2011-09       6971114  5.547916e+05            157      315727"
      ]
     },
     "execution_count": 86,
     "metadata": {},
     "output_type": "execute_result"
    }
   ],
   "source": [
    "# Is there seasonality?\n",
    "sales_by_year_month = sales_date.groupby('Order_YM').sum().reset_index()\n",
    "sales_by_year_month.head()"
   ]
  },
  {
   "cell_type": "code",
   "execution_count": 87,
   "metadata": {
    "colab": {
     "base_uri": "https://localhost:8080/",
     "height": 431
    },
    "colab_type": "code",
    "id": "awDjxQx14K7J",
    "outputId": "100e2a9f-7d3e-4499-d263-b86d0778392e"
   },
   "outputs": [
    {
     "data": {
      "image/png": "[encoded data removed]",
      "text/plain": [
       "<Figure size 1296x432 with 1 Axes>"
      ]
     },
     "metadata": {
      "needs_background": "light"
     },
     "output_type": "display_data"
    }
   ],
   "source": [
    "# Visualize it\n",
    "plt.figure(figsize=(18,6))\n",
    "sns.lineplot(x='Order_YM', y='TotalDue', data=sales_by_year_month)\n",
    "plt.xlabel('Years and months')\n",
    "plt.ylabel('Revenue')\n",
    "plt.title('Revenue over years and months')\n",
    "plt.xticks(rotation=45)\n",
    "plt.show()"
   ]
  },
  {
   "cell_type": "markdown",
   "metadata": {
    "colab_type": "text",
    "id": "uIsHEbLlFGtn"
   },
   "source": [
    "### _Q2: How is revenue divided by channel type overall and over time?_"
   ]
  },
  {
   "cell_type": "markdown",
   "metadata": {
    "colab_type": "text",
    "id": "mpmB3J_Kidx0"
   },
   "source": [
    "Similar to how we merged the `sales` sheet with the `dates` sheet when answering Q1, we will be merging the `sales` sheet with the `customers` sheet to get the channel type, employee and customer names for each `SalesOrderID`.\n",
    "\n",
    "<br>\n",
    "\n",
    "<p align=\"center\">\n",
    "<img src=\"https://github.com/adelnehme/python-for-excel-users-webinar/blob/master/pivots2.png?raw=True\" alt = \"pivot\" width=\"70%\">\n",
    "</p>\n",
    "\n",
    "<br>"
   ]
  },
  {
   "cell_type": "code",
   "execution_count": 88,
   "metadata": {
    "colab": {
     "base_uri": "https://localhost:8080/",
     "height": 204
    },
    "colab_type": "code",
    "id": "V2_olMaI4K5Q",
    "outputId": "52606a47-830b-4753-f942-addbc74cc468"
   },
   "outputs": [
    {
     "data": {
      "text/html": [
       "<div>\n",
       "<style scoped>\n",
       "    .dataframe tbody tr th:only-of-type {\n",
       "        vertical-align: middle;\n",
       "    }\n",
       "\n",
       "    .dataframe tbody tr th {\n",
       "        vertical-align: top;\n",
       "    }\n",
       "\n",
       "    .dataframe thead th {\n",
       "        text-align: right;\n",
       "    }\n",
       "</style>\n",
       "<table border=\"1\" class=\"dataframe\">\n",
       "  <thead>\n",
       "    <tr style=\"text-align: right;\">\n",
       "      <th></th>\n",
       "      <th>SalesOrderID</th>\n",
       "      <th>TotalDue</th>\n",
       "      <th>NumberofItems</th>\n",
       "      <th>OnlineOrderFlag</th>\n",
       "      <th>CustomerFirstName</th>\n",
       "      <th>CustomerLastName</th>\n",
       "      <th>EmployeeFirstName</th>\n",
       "      <th>EmployeeLastName</th>\n",
       "      <th>ChannelType</th>\n",
       "      <th>FullName</th>\n",
       "    </tr>\n",
       "  </thead>\n",
       "  <tbody>\n",
       "    <tr>\n",
       "      <th>0</th>\n",
       "      <td>43659</td>\n",
       "      <td>23153.2339</td>\n",
       "      <td>12</td>\n",
       "      <td>offline</td>\n",
       "      <td>NaN</td>\n",
       "      <td>NaN</td>\n",
       "      <td>Tsvi</td>\n",
       "      <td>Reiter</td>\n",
       "      <td>B2B</td>\n",
       "      <td>Tsvi Reiter</td>\n",
       "    </tr>\n",
       "    <tr>\n",
       "      <th>1</th>\n",
       "      <td>43660</td>\n",
       "      <td>1457.3288</td>\n",
       "      <td>2</td>\n",
       "      <td>offline</td>\n",
       "      <td>NaN</td>\n",
       "      <td>NaN</td>\n",
       "      <td>Tsvi</td>\n",
       "      <td>Reiter</td>\n",
       "      <td>B2B</td>\n",
       "      <td>Tsvi Reiter</td>\n",
       "    </tr>\n",
       "    <tr>\n",
       "      <th>2</th>\n",
       "      <td>43661</td>\n",
       "      <td>36865.8012</td>\n",
       "      <td>15</td>\n",
       "      <td>offline</td>\n",
       "      <td>NaN</td>\n",
       "      <td>NaN</td>\n",
       "      <td>José</td>\n",
       "      <td>Saraiva</td>\n",
       "      <td>B2B</td>\n",
       "      <td>José Saraiva</td>\n",
       "    </tr>\n",
       "    <tr>\n",
       "      <th>3</th>\n",
       "      <td>43662</td>\n",
       "      <td>32474.9324</td>\n",
       "      <td>22</td>\n",
       "      <td>offline</td>\n",
       "      <td>NaN</td>\n",
       "      <td>NaN</td>\n",
       "      <td>José</td>\n",
       "      <td>Saraiva</td>\n",
       "      <td>B2B</td>\n",
       "      <td>José Saraiva</td>\n",
       "    </tr>\n",
       "    <tr>\n",
       "      <th>4</th>\n",
       "      <td>43663</td>\n",
       "      <td>472.3108</td>\n",
       "      <td>1</td>\n",
       "      <td>offline</td>\n",
       "      <td>NaN</td>\n",
       "      <td>NaN</td>\n",
       "      <td>Linda</td>\n",
       "      <td>Mitchell</td>\n",
       "      <td>B2B</td>\n",
       "      <td>Linda Mitchell</td>\n",
       "    </tr>\n",
       "  </tbody>\n",
       "</table>\n",
       "</div>"
      ],
      "text/plain": [
       "   SalesOrderID    TotalDue  NumberofItems OnlineOrderFlag CustomerFirstName  \\\n",
       "0         43659  23153.2339             12         offline               NaN   \n",
       "1         43660   1457.3288              2         offline               NaN   \n",
       "2         43661  36865.8012             15         offline               NaN   \n",
       "3         43662  32474.9324             22         offline               NaN   \n",
       "4         43663    472.3108              1         offline               NaN   \n",
       "\n",
       "  CustomerLastName EmployeeFirstName EmployeeLastName ChannelType  \\\n",
       "0              NaN              Tsvi           Reiter         B2B   \n",
       "1              NaN              Tsvi           Reiter         B2B   \n",
       "2              NaN              José          Saraiva         B2B   \n",
       "3              NaN              José          Saraiva         B2B   \n",
       "4              NaN             Linda         Mitchell         B2B   \n",
       "\n",
       "         FullName  \n",
       "0     Tsvi Reiter  \n",
       "1     Tsvi Reiter  \n",
       "2    José Saraiva  \n",
       "3    José Saraiva  \n",
       "4  Linda Mitchell  "
      ]
     },
     "execution_count": 88,
     "metadata": {},
     "output_type": "execute_result"
    }
   ],
   "source": [
    "# Merge sales and customer data\n",
    "sales_customers = sales.merge(customers, on='SalesOrderID', how='left')\n",
    "sales_customers.head()"
   ]
  },
  {
   "cell_type": "code",
   "execution_count": 89,
   "metadata": {
    "colab": {
     "base_uri": "https://localhost:8080/",
     "height": 111
    },
    "colab_type": "code",
    "id": "rEDz2ZKo4KyG",
    "outputId": "266fe184-e05d-470e-e0cc-3c3d1cee9c72"
   },
   "outputs": [
    {
     "data": {
      "text/html": [
       "<div>\n",
       "<style scoped>\n",
       "    .dataframe tbody tr th:only-of-type {\n",
       "        vertical-align: middle;\n",
       "    }\n",
       "\n",
       "    .dataframe tbody tr th {\n",
       "        vertical-align: top;\n",
       "    }\n",
       "\n",
       "    .dataframe thead th {\n",
       "        text-align: right;\n",
       "    }\n",
       "</style>\n",
       "<table border=\"1\" class=\"dataframe\">\n",
       "  <thead>\n",
       "    <tr style=\"text-align: right;\">\n",
       "      <th></th>\n",
       "      <th>ChannelType</th>\n",
       "      <th>SalesOrderID</th>\n",
       "      <th>TotalDue</th>\n",
       "      <th>NumberofItems</th>\n",
       "    </tr>\n",
       "  </thead>\n",
       "  <tbody>\n",
       "    <tr>\n",
       "      <th>0</th>\n",
       "      <td>B2B</td>\n",
       "      <td>204462343</td>\n",
       "      <td>9.077545e+07</td>\n",
       "      <td>60919</td>\n",
       "    </tr>\n",
       "    <tr>\n",
       "      <th>1</th>\n",
       "      <td>B2C</td>\n",
       "      <td>1664275472</td>\n",
       "      <td>3.244134e+07</td>\n",
       "      <td>60398</td>\n",
       "    </tr>\n",
       "  </tbody>\n",
       "</table>\n",
       "</div>"
      ],
      "text/plain": [
       "  ChannelType  SalesOrderID      TotalDue  NumberofItems\n",
       "0         B2B     204462343  9.077545e+07          60919\n",
       "1         B2C    1664275472  3.244134e+07          60398"
      ]
     },
     "execution_count": 89,
     "metadata": {},
     "output_type": "execute_result"
    }
   ],
   "source": [
    "# Identify revenue and amount sold by channel\n",
    "sales_by_channel = sales_customers.groupby('ChannelType').sum().reset_index()\n",
    "sales_by_channel.head()"
   ]
  },
  {
   "cell_type": "code",
   "execution_count": 90,
   "metadata": {
    "colab": {
     "base_uri": "https://localhost:8080/",
     "height": 295
    },
    "colab_type": "code",
    "id": "F01U4q9z4jff",
    "outputId": "51505f56-0888-45bf-b86d-be451ea10d3f"
   },
   "outputs": [
    {
     "data": {
      "image/png": "[encoded data removed]",
      "text/plain": [
       "<Figure size 432x288 with 1 Axes>"
      ]
     },
     "metadata": {
      "needs_background": "light"
     },
     "output_type": "display_data"
    }
   ],
   "source": [
    "# Visualize\n",
    "sns.barplot(x='ChannelType', y='TotalDue', data=sales_by_channel)\n",
    "plt.xlabel('Channel Type')\n",
    "plt.ylabel('Revenue')\n",
    "plt.title('Revenue by Channel Type')\n",
    "plt.show()"
   ]
  },
  {
   "cell_type": "code",
   "execution_count": 91,
   "metadata": {
    "colab": {
     "base_uri": "https://localhost:8080/",
     "height": 309
    },
    "colab_type": "code",
    "id": "Kql3u8DH4jc4",
    "outputId": "a5e6ef90-6a41-4353-e508-d94b19c3d971"
   },
   "outputs": [
    {
     "data": {
      "text/html": [
       "<div>\n",
       "<style scoped>\n",
       "    .dataframe tbody tr th:only-of-type {\n",
       "        vertical-align: middle;\n",
       "    }\n",
       "\n",
       "    .dataframe tbody tr th {\n",
       "        vertical-align: top;\n",
       "    }\n",
       "\n",
       "    .dataframe thead th {\n",
       "        text-align: right;\n",
       "    }\n",
       "</style>\n",
       "<table border=\"1\" class=\"dataframe\">\n",
       "  <thead>\n",
       "    <tr style=\"text-align: right;\">\n",
       "      <th></th>\n",
       "      <th>SalesOrderID</th>\n",
       "      <th>TotalDue</th>\n",
       "      <th>NumberofItems</th>\n",
       "      <th>OnlineOrderFlag</th>\n",
       "      <th>OrderDate</th>\n",
       "      <th>ShipDate</th>\n",
       "      <th>Order_Year</th>\n",
       "      <th>Order_YM</th>\n",
       "      <th>CustomerFirstName</th>\n",
       "      <th>CustomerLastName</th>\n",
       "      <th>EmployeeFirstName</th>\n",
       "      <th>EmployeeLastName</th>\n",
       "      <th>ChannelType</th>\n",
       "      <th>FullName</th>\n",
       "    </tr>\n",
       "  </thead>\n",
       "  <tbody>\n",
       "    <tr>\n",
       "      <th>0</th>\n",
       "      <td>43659</td>\n",
       "      <td>23153.2339</td>\n",
       "      <td>12</td>\n",
       "      <td>offline</td>\n",
       "      <td>2011-05-31</td>\n",
       "      <td>2011-06-07</td>\n",
       "      <td>2011</td>\n",
       "      <td>2011-05</td>\n",
       "      <td>NaN</td>\n",
       "      <td>NaN</td>\n",
       "      <td>Tsvi</td>\n",
       "      <td>Reiter</td>\n",
       "      <td>B2B</td>\n",
       "      <td>Tsvi Reiter</td>\n",
       "    </tr>\n",
       "    <tr>\n",
       "      <th>1</th>\n",
       "      <td>43660</td>\n",
       "      <td>1457.3288</td>\n",
       "      <td>2</td>\n",
       "      <td>offline</td>\n",
       "      <td>2011-05-31</td>\n",
       "      <td>2011-06-07</td>\n",
       "      <td>2011</td>\n",
       "      <td>2011-05</td>\n",
       "      <td>NaN</td>\n",
       "      <td>NaN</td>\n",
       "      <td>Tsvi</td>\n",
       "      <td>Reiter</td>\n",
       "      <td>B2B</td>\n",
       "      <td>Tsvi Reiter</td>\n",
       "    </tr>\n",
       "    <tr>\n",
       "      <th>2</th>\n",
       "      <td>43661</td>\n",
       "      <td>36865.8012</td>\n",
       "      <td>15</td>\n",
       "      <td>offline</td>\n",
       "      <td>2011-05-31</td>\n",
       "      <td>2011-06-07</td>\n",
       "      <td>2011</td>\n",
       "      <td>2011-05</td>\n",
       "      <td>NaN</td>\n",
       "      <td>NaN</td>\n",
       "      <td>José</td>\n",
       "      <td>Saraiva</td>\n",
       "      <td>B2B</td>\n",
       "      <td>José Saraiva</td>\n",
       "    </tr>\n",
       "    <tr>\n",
       "      <th>3</th>\n",
       "      <td>43662</td>\n",
       "      <td>32474.9324</td>\n",
       "      <td>22</td>\n",
       "      <td>offline</td>\n",
       "      <td>2011-05-31</td>\n",
       "      <td>2011-06-07</td>\n",
       "      <td>2011</td>\n",
       "      <td>2011-05</td>\n",
       "      <td>NaN</td>\n",
       "      <td>NaN</td>\n",
       "      <td>José</td>\n",
       "      <td>Saraiva</td>\n",
       "      <td>B2B</td>\n",
       "      <td>José Saraiva</td>\n",
       "    </tr>\n",
       "    <tr>\n",
       "      <th>4</th>\n",
       "      <td>43663</td>\n",
       "      <td>472.3108</td>\n",
       "      <td>1</td>\n",
       "      <td>offline</td>\n",
       "      <td>2011-05-31</td>\n",
       "      <td>2011-06-07</td>\n",
       "      <td>2011</td>\n",
       "      <td>2011-05</td>\n",
       "      <td>NaN</td>\n",
       "      <td>NaN</td>\n",
       "      <td>Linda</td>\n",
       "      <td>Mitchell</td>\n",
       "      <td>B2B</td>\n",
       "      <td>Linda Mitchell</td>\n",
       "    </tr>\n",
       "  </tbody>\n",
       "</table>\n",
       "</div>"
      ],
      "text/plain": [
       "   SalesOrderID    TotalDue  NumberofItems OnlineOrderFlag  OrderDate  \\\n",
       "0         43659  23153.2339             12         offline 2011-05-31   \n",
       "1         43660   1457.3288              2         offline 2011-05-31   \n",
       "2         43661  36865.8012             15         offline 2011-05-31   \n",
       "3         43662  32474.9324             22         offline 2011-05-31   \n",
       "4         43663    472.3108              1         offline 2011-05-31   \n",
       "\n",
       "    ShipDate  Order_Year Order_YM CustomerFirstName CustomerLastName  \\\n",
       "0 2011-06-07        2011  2011-05               NaN              NaN   \n",
       "1 2011-06-07        2011  2011-05               NaN              NaN   \n",
       "2 2011-06-07        2011  2011-05               NaN              NaN   \n",
       "3 2011-06-07        2011  2011-05               NaN              NaN   \n",
       "4 2011-06-07        2011  2011-05               NaN              NaN   \n",
       "\n",
       "  EmployeeFirstName EmployeeLastName ChannelType        FullName  \n",
       "0              Tsvi           Reiter         B2B     Tsvi Reiter  \n",
       "1              Tsvi           Reiter         B2B     Tsvi Reiter  \n",
       "2              José          Saraiva         B2B    José Saraiva  \n",
       "3              José          Saraiva         B2B    José Saraiva  \n",
       "4             Linda         Mitchell         B2B  Linda Mitchell  "
      ]
     },
     "execution_count": 91,
     "metadata": {},
     "output_type": "execute_result"
    }
   ],
   "source": [
    "# Merge sales, dates and customers data\n",
    "sales_customers_date = sales_date.merge(customers, on='SalesOrderID', how='left')\n",
    "sales_customers_date.head()"
   ]
  },
  {
   "cell_type": "code",
   "execution_count": 92,
   "metadata": {
    "colab": {
     "base_uri": "https://localhost:8080/",
     "height": 297
    },
    "colab_type": "code",
    "id": "Cw4oqqKe4jaz",
    "outputId": "03d6147f-7bc2-4b02-924b-14845b336adb"
   },
   "outputs": [
    {
     "data": {
      "text/html": [
       "<div>\n",
       "<style scoped>\n",
       "    .dataframe tbody tr th:only-of-type {\n",
       "        vertical-align: middle;\n",
       "    }\n",
       "\n",
       "    .dataframe tbody tr th {\n",
       "        vertical-align: top;\n",
       "    }\n",
       "\n",
       "    .dataframe thead th {\n",
       "        text-align: right;\n",
       "    }\n",
       "</style>\n",
       "<table border=\"1\" class=\"dataframe\">\n",
       "  <thead>\n",
       "    <tr style=\"text-align: right;\">\n",
       "      <th></th>\n",
       "      <th>Order_Year</th>\n",
       "      <th>ChannelType</th>\n",
       "      <th>SalesOrderID</th>\n",
       "      <th>TotalDue</th>\n",
       "      <th>NumberofItems</th>\n",
       "    </tr>\n",
       "  </thead>\n",
       "  <tbody>\n",
       "    <tr>\n",
       "      <th>0</th>\n",
       "      <td>2011</td>\n",
       "      <td>B2B</td>\n",
       "      <td>17999103</td>\n",
       "      <td>9.886952e+06</td>\n",
       "      <td>4515</td>\n",
       "    </tr>\n",
       "    <tr>\n",
       "      <th>1</th>\n",
       "      <td>2011</td>\n",
       "      <td>B2C</td>\n",
       "      <td>53451331</td>\n",
       "      <td>4.268748e+06</td>\n",
       "      <td>1201</td>\n",
       "    </tr>\n",
       "    <tr>\n",
       "      <th>2</th>\n",
       "      <td>2012</td>\n",
       "      <td>B2B</td>\n",
       "      <td>55440422</td>\n",
       "      <td>3.061409e+07</td>\n",
       "      <td>18946</td>\n",
       "    </tr>\n",
       "    <tr>\n",
       "      <th>3</th>\n",
       "      <td>2012</td>\n",
       "      <td>B2C</td>\n",
       "      <td>129437623</td>\n",
       "      <td>7.061613e+06</td>\n",
       "      <td>2743</td>\n",
       "    </tr>\n",
       "    <tr>\n",
       "      <th>4</th>\n",
       "      <td>2013</td>\n",
       "      <td>B2B</td>\n",
       "      <td>87767978</td>\n",
       "      <td>3.710689e+07</td>\n",
       "      <td>27614</td>\n",
       "    </tr>\n",
       "    <tr>\n",
       "      <th>5</th>\n",
       "      <td>2013</td>\n",
       "      <td>B2C</td>\n",
       "      <td>710274435</td>\n",
       "      <td>1.185900e+07</td>\n",
       "      <td>28959</td>\n",
       "    </tr>\n",
       "    <tr>\n",
       "      <th>6</th>\n",
       "      <td>2014</td>\n",
       "      <td>B2B</td>\n",
       "      <td>43254840</td>\n",
       "      <td>1.316752e+07</td>\n",
       "      <td>9844</td>\n",
       "    </tr>\n",
       "    <tr>\n",
       "      <th>7</th>\n",
       "      <td>2014</td>\n",
       "      <td>B2C</td>\n",
       "      <td>771112083</td>\n",
       "      <td>9.251977e+06</td>\n",
       "      <td>27495</td>\n",
       "    </tr>\n",
       "  </tbody>\n",
       "</table>\n",
       "</div>"
      ],
      "text/plain": [
       "   Order_Year ChannelType  SalesOrderID      TotalDue  NumberofItems\n",
       "0        2011         B2B      17999103  9.886952e+06           4515\n",
       "1        2011         B2C      53451331  4.268748e+06           1201\n",
       "2        2012         B2B      55440422  3.061409e+07          18946\n",
       "3        2012         B2C     129437623  7.061613e+06           2743\n",
       "4        2013         B2B      87767978  3.710689e+07          27614\n",
       "5        2013         B2C     710274435  1.185900e+07          28959\n",
       "6        2014         B2B      43254840  1.316752e+07           9844\n",
       "7        2014         B2C     771112083  9.251977e+06          27495"
      ]
     },
     "execution_count": 92,
     "metadata": {},
     "output_type": "execute_result"
    }
   ],
   "source": [
    "# Group by year by channel type\n",
    "sales_by_channel_date = sales_customers_date.groupby(['Order_Year', 'ChannelType']).sum().reset_index()\n",
    "sales_by_channel_date"
   ]
  },
  {
   "cell_type": "code",
   "execution_count": 93,
   "metadata": {
    "colab": {
     "base_uri": "https://localhost:8080/",
     "height": 295
    },
    "colab_type": "code",
    "id": "9cWRLNkV4jYm",
    "outputId": "22da0e56-6ba3-44ac-bb18-f329cfdc24ba"
   },
   "outputs": [
    {
     "data": {
      "image/png": "[encoded data removed]",
      "text/plain": [
       "<Figure size 432x288 with 1 Axes>"
      ]
     },
     "metadata": {
      "needs_background": "light"
     },
     "output_type": "display_data"
    }
   ],
   "source": [
    "# Visualize\n",
    "sns.barplot(x='Order_Year', y='TotalDue', data=sales_by_channel_date, hue='ChannelType')\n",
    "plt.xlabel('Order Year')\n",
    "plt.ylabel('Total Revenue')\n",
    "plt.title('Channel type performance in revenue over years')\n",
    "plt.show()"
   ]
  },
  {
   "cell_type": "markdown",
   "metadata": {
    "colab_type": "text",
    "id": "tG5zLT6ilRUn"
   },
   "source": [
    "### _Q3: Who are the employees responsible for the most B2B sales overall and in 2013?_"
   ]
  },
  {
   "cell_type": "markdown",
   "metadata": {
    "colab_type": "text",
    "id": "gZ_gJa1UqOIK"
   },
   "source": [
    "The `sales_customers_date` has already been created when we merged `sales` with `customers` and `dates` in Q1 and Q2\n",
    "\n",
    "```py\n",
    "# From Q1\n",
    "sales_date = sales.merge(dates, on=\"SalesOrderID\", how = \"left\")\n",
    "# From Q2\n",
    "sales_customers_date = sales_date.merge(customers, on = \"SalesOrderID\", how = \"left\")\n",
    "```"
   ]
  },
  {
   "cell_type": "code",
   "execution_count": 94,
   "metadata": {
    "colab": {
     "base_uri": "https://localhost:8080/",
     "height": 204
    },
    "colab_type": "code",
    "id": "liJNxutK4rVG",
    "outputId": "6ce80a04-2fa8-4626-a91e-53fbe76a7e82"
   },
   "outputs": [
    {
     "data": {
      "text/html": [
       "<div>\n",
       "<style scoped>\n",
       "    .dataframe tbody tr th:only-of-type {\n",
       "        vertical-align: middle;\n",
       "    }\n",
       "\n",
       "    .dataframe tbody tr th {\n",
       "        vertical-align: top;\n",
       "    }\n",
       "\n",
       "    .dataframe thead th {\n",
       "        text-align: right;\n",
       "    }\n",
       "</style>\n",
       "<table border=\"1\" class=\"dataframe\">\n",
       "  <thead>\n",
       "    <tr style=\"text-align: right;\">\n",
       "      <th></th>\n",
       "      <th>FullName</th>\n",
       "      <th>SalesOrderID</th>\n",
       "      <th>TotalDue</th>\n",
       "      <th>NumberofItems</th>\n",
       "      <th>Order_Year</th>\n",
       "    </tr>\n",
       "  </thead>\n",
       "  <tbody>\n",
       "    <tr>\n",
       "      <th>0</th>\n",
       "      <td>Amy Alberts</td>\n",
       "      <td>2155978</td>\n",
       "      <td>8.264175e+05</td>\n",
       "      <td>586</td>\n",
       "      <td>78503</td>\n",
       "    </tr>\n",
       "    <tr>\n",
       "      <th>1</th>\n",
       "      <td>David Campbell</td>\n",
       "      <td>9966638</td>\n",
       "      <td>4.207895e+06</td>\n",
       "      <td>2247</td>\n",
       "      <td>380364</td>\n",
       "    </tr>\n",
       "    <tr>\n",
       "      <th>2</th>\n",
       "      <td>Garrett Vargas</td>\n",
       "      <td>12415186</td>\n",
       "      <td>4.069422e+06</td>\n",
       "      <td>3284</td>\n",
       "      <td>470937</td>\n",
       "    </tr>\n",
       "    <tr>\n",
       "      <th>3</th>\n",
       "      <td>Jae Pak</td>\n",
       "      <td>19195780</td>\n",
       "      <td>9.585125e+06</td>\n",
       "      <td>6738</td>\n",
       "      <td>700480</td>\n",
       "    </tr>\n",
       "    <tr>\n",
       "      <th>4</th>\n",
       "      <td>Jillian Carson</td>\n",
       "      <td>24928694</td>\n",
       "      <td>1.134239e+07</td>\n",
       "      <td>7825</td>\n",
       "      <td>951928</td>\n",
       "    </tr>\n",
       "  </tbody>\n",
       "</table>\n",
       "</div>"
      ],
      "text/plain": [
       "         FullName  SalesOrderID      TotalDue  NumberofItems  Order_Year\n",
       "0     Amy Alberts       2155978  8.264175e+05            586       78503\n",
       "1  David Campbell       9966638  4.207895e+06           2247      380364\n",
       "2  Garrett Vargas      12415186  4.069422e+06           3284      470937\n",
       "3         Jae Pak      19195780  9.585125e+06           6738      700480\n",
       "4  Jillian Carson      24928694  1.134239e+07           7825      951928"
      ]
     },
     "execution_count": 94,
     "metadata": {},
     "output_type": "execute_result"
    }
   ],
   "source": [
    "# Group by employee performance\n",
    "sales_employees = sales_customers_date.groupby('FullName').sum().reset_index()\n",
    "sales_employees.head()"
   ]
  },
  {
   "cell_type": "markdown",
   "metadata": {
    "colab_type": "text",
    "id": "czsrlwlFlk_t"
   },
   "source": [
    "To be able to truly see the highest earning employees - we can use the `.sort_values()` method of a DataFrame. For example, we can sort `col_A` of the example DataFrame `df_1` as such:\n",
    "\n",
    "`df_1.sort_values(by=,ascending=,inplace=)`\n",
    "\n",
    "* `by` takes in the column name being sorted by\n",
    "* `ascending` takes in `True` or `False` depending on whether we want to sort it by ascending order\n",
    "* `inplace` takes in `True` or `False` depending on whether we want to save our changes in the same DataFrame being sorted."
   ]
  },
  {
   "cell_type": "code",
   "execution_count": 95,
   "metadata": {
    "colab": {
     "base_uri": "https://localhost:8080/",
     "height": 204
    },
    "colab_type": "code",
    "id": "NBovRPzVFvoB",
    "outputId": "adeba9e8-ae7c-424b-fe33-2de819fd2a37"
   },
   "outputs": [
    {
     "data": {
      "text/html": [
       "<div>\n",
       "<style scoped>\n",
       "    .dataframe tbody tr th:only-of-type {\n",
       "        vertical-align: middle;\n",
       "    }\n",
       "\n",
       "    .dataframe tbody tr th {\n",
       "        vertical-align: top;\n",
       "    }\n",
       "\n",
       "    .dataframe thead th {\n",
       "        text-align: right;\n",
       "    }\n",
       "</style>\n",
       "<table border=\"1\" class=\"dataframe\">\n",
       "  <thead>\n",
       "    <tr style=\"text-align: right;\">\n",
       "      <th></th>\n",
       "      <th>FullName</th>\n",
       "      <th>SalesOrderID</th>\n",
       "      <th>TotalDue</th>\n",
       "      <th>NumberofItems</th>\n",
       "      <th>Order_Year</th>\n",
       "    </tr>\n",
       "  </thead>\n",
       "  <tbody>\n",
       "    <tr>\n",
       "      <th>14</th>\n",
       "      <td>Syed Abbas</td>\n",
       "      <td>964779</td>\n",
       "      <td>1.955288e+05</td>\n",
       "      <td>245</td>\n",
       "      <td>32212</td>\n",
       "    </tr>\n",
       "    <tr>\n",
       "      <th>0</th>\n",
       "      <td>Amy Alberts</td>\n",
       "      <td>2155978</td>\n",
       "      <td>8.264175e+05</td>\n",
       "      <td>586</td>\n",
       "      <td>78503</td>\n",
       "    </tr>\n",
       "    <tr>\n",
       "      <th>13</th>\n",
       "      <td>Stephen Jiang</td>\n",
       "      <td>2516344</td>\n",
       "      <td>1.235934e+06</td>\n",
       "      <td>792</td>\n",
       "      <td>96602</td>\n",
       "    </tr>\n",
       "    <tr>\n",
       "      <th>7</th>\n",
       "      <td>Lynn Tsoflias</td>\n",
       "      <td>6663235</td>\n",
       "      <td>1.606441e+06</td>\n",
       "      <td>1468</td>\n",
       "      <td>219460</td>\n",
       "    </tr>\n",
       "    <tr>\n",
       "      <th>10</th>\n",
       "      <td>Rachel Valdez</td>\n",
       "      <td>7870176</td>\n",
       "      <td>2.062393e+06</td>\n",
       "      <td>1783</td>\n",
       "      <td>261734</td>\n",
       "    </tr>\n",
       "  </tbody>\n",
       "</table>\n",
       "</div>"
      ],
      "text/plain": [
       "         FullName  SalesOrderID      TotalDue  NumberofItems  Order_Year\n",
       "14     Syed Abbas        964779  1.955288e+05            245       32212\n",
       "0     Amy Alberts       2155978  8.264175e+05            586       78503\n",
       "13  Stephen Jiang       2516344  1.235934e+06            792       96602\n",
       "7   Lynn Tsoflias       6663235  1.606441e+06           1468      219460\n",
       "10  Rachel Valdez       7870176  2.062393e+06           1783      261734"
      ]
     },
     "execution_count": 95,
     "metadata": {},
     "output_type": "execute_result"
    }
   ],
   "source": [
    "# Sort it so we visualize it correctly\n",
    "sales_employees.sort_values('TotalDue', ascending=True, inplace=True)\n",
    "sales_employees.head()"
   ]
  },
  {
   "cell_type": "code",
   "execution_count": 96,
   "metadata": {
    "colab": {
     "base_uri": "https://localhost:8080/",
     "height": 505
    },
    "colab_type": "code",
    "id": "GCJVo_6t4rS0",
    "outputId": "c71fee0a-7b54-486e-fab3-b8edd84d023a"
   },
   "outputs": [
    {
     "data": {
      "text/plain": [
       "<function matplotlib.pyplot.show(*args, **kw)>"
      ]
     },
     "execution_count": 96,
     "metadata": {},
     "output_type": "execute_result"
    },
    {
     "data": {
      "image/png": "[encoded data removed]",
      "text/plain": [
       "<Figure size 1296x432 with 1 Axes>"
      ]
     },
     "metadata": {
      "needs_background": "light"
     },
     "output_type": "display_data"
    }
   ],
   "source": [
    "# Visualize\n",
    "plt.figure(figsize=(18,6))\n",
    "sns.barplot(x='FullName', y='TotalDue', data=sales_employees)\n",
    "plt.xlabel('Employee Full Name')\n",
    "plt.xticks(rotation=45)\n",
    "plt.ylabel('Revenue')\n",
    "plt.title('B2B Revenue by Sales Person')\n",
    "plt.show"
   ]
  },
  {
   "cell_type": "code",
   "execution_count": 97,
   "metadata": {
    "colab": {
     "base_uri": "https://localhost:8080/",
     "height": 204
    },
    "colab_type": "code",
    "id": "JYIPZ1TL4rPp",
    "outputId": "8506c1ad-e878-45e9-9849-26aa7f14caf8"
   },
   "outputs": [
    {
     "data": {
      "text/html": [
       "<div>\n",
       "<style scoped>\n",
       "    .dataframe tbody tr th:only-of-type {\n",
       "        vertical-align: middle;\n",
       "    }\n",
       "\n",
       "    .dataframe tbody tr th {\n",
       "        vertical-align: top;\n",
       "    }\n",
       "\n",
       "    .dataframe thead th {\n",
       "        text-align: right;\n",
       "    }\n",
       "</style>\n",
       "<table border=\"1\" class=\"dataframe\">\n",
       "  <thead>\n",
       "    <tr style=\"text-align: right;\">\n",
       "      <th></th>\n",
       "      <th>FullName</th>\n",
       "      <th>Order_Year</th>\n",
       "      <th>SalesOrderID</th>\n",
       "      <th>TotalDue</th>\n",
       "      <th>NumberofItems</th>\n",
       "    </tr>\n",
       "  </thead>\n",
       "  <tbody>\n",
       "    <tr>\n",
       "      <th>0</th>\n",
       "      <td>Amy Alberts</td>\n",
       "      <td>2012</td>\n",
       "      <td>335313</td>\n",
       "      <td>1.306670e+05</td>\n",
       "      <td>103</td>\n",
       "    </tr>\n",
       "    <tr>\n",
       "      <th>1</th>\n",
       "      <td>Amy Alberts</td>\n",
       "      <td>2013</td>\n",
       "      <td>1618710</td>\n",
       "      <td>6.320026e+05</td>\n",
       "      <td>453</td>\n",
       "    </tr>\n",
       "    <tr>\n",
       "      <th>2</th>\n",
       "      <td>Amy Alberts</td>\n",
       "      <td>2014</td>\n",
       "      <td>201955</td>\n",
       "      <td>6.374784e+04</td>\n",
       "      <td>30</td>\n",
       "    </tr>\n",
       "    <tr>\n",
       "      <th>3</th>\n",
       "      <td>David Campbell</td>\n",
       "      <td>2011</td>\n",
       "      <td>1242002</td>\n",
       "      <td>6.756637e+05</td>\n",
       "      <td>220</td>\n",
       "    </tr>\n",
       "    <tr>\n",
       "      <th>4</th>\n",
       "      <td>David Campbell</td>\n",
       "      <td>2012</td>\n",
       "      <td>2978792</td>\n",
       "      <td>1.453583e+06</td>\n",
       "      <td>741</td>\n",
       "    </tr>\n",
       "  </tbody>\n",
       "</table>\n",
       "</div>"
      ],
      "text/plain": [
       "         FullName  Order_Year  SalesOrderID      TotalDue  NumberofItems\n",
       "0     Amy Alberts        2012        335313  1.306670e+05            103\n",
       "1     Amy Alberts        2013       1618710  6.320026e+05            453\n",
       "2     Amy Alberts        2014        201955  6.374784e+04             30\n",
       "3  David Campbell        2011       1242002  6.756637e+05            220\n",
       "4  David Campbell        2012       2978792  1.453583e+06            741"
      ]
     },
     "execution_count": 97,
     "metadata": {},
     "output_type": "execute_result"
    }
   ],
   "source": [
    "# Group by employee performance and year\n",
    "sales_employees = sales_customers_date.groupby(['FullName', 'Order_Year']).sum().reset_index()\n",
    "sales_employees.head()"
   ]
  },
  {
   "cell_type": "code",
   "execution_count": 98,
   "metadata": {
    "colab": {
     "base_uri": "https://localhost:8080/",
     "height": 204
    },
    "colab_type": "code",
    "id": "AYbLj8wHF7Id",
    "outputId": "0221367b-0e11-46ae-f5df-1f1c0192b1d6"
   },
   "outputs": [
    {
     "data": {
      "text/html": [
       "<div>\n",
       "<style scoped>\n",
       "    .dataframe tbody tr th:only-of-type {\n",
       "        vertical-align: middle;\n",
       "    }\n",
       "\n",
       "    .dataframe tbody tr th {\n",
       "        vertical-align: top;\n",
       "    }\n",
       "\n",
       "    .dataframe thead th {\n",
       "        text-align: right;\n",
       "    }\n",
       "</style>\n",
       "<table border=\"1\" class=\"dataframe\">\n",
       "  <thead>\n",
       "    <tr style=\"text-align: right;\">\n",
       "      <th></th>\n",
       "      <th>FullName</th>\n",
       "      <th>Order_Year</th>\n",
       "      <th>SalesOrderID</th>\n",
       "      <th>TotalDue</th>\n",
       "      <th>NumberofItems</th>\n",
       "    </tr>\n",
       "  </thead>\n",
       "  <tbody>\n",
       "    <tr>\n",
       "      <th>45</th>\n",
       "      <td>Stephen Jiang</td>\n",
       "      <td>2011</td>\n",
       "      <td>176971</td>\n",
       "      <td>32567.9155</td>\n",
       "      <td>17</td>\n",
       "    </tr>\n",
       "    <tr>\n",
       "      <th>7</th>\n",
       "      <td>Garrett Vargas</td>\n",
       "      <td>2011</td>\n",
       "      <td>1329262</td>\n",
       "      <td>563326.5478</td>\n",
       "      <td>284</td>\n",
       "    </tr>\n",
       "    <tr>\n",
       "      <th>3</th>\n",
       "      <td>David Campbell</td>\n",
       "      <td>2011</td>\n",
       "      <td>1242002</td>\n",
       "      <td>675663.6940</td>\n",
       "      <td>220</td>\n",
       "    </tr>\n",
       "    <tr>\n",
       "      <th>32</th>\n",
       "      <td>Pamela Ansman-Wolfe</td>\n",
       "      <td>2011</td>\n",
       "      <td>974811</td>\n",
       "      <td>730273.4889</td>\n",
       "      <td>273</td>\n",
       "    </tr>\n",
       "    <tr>\n",
       "      <th>28</th>\n",
       "      <td>Michael Blythe</td>\n",
       "      <td>2011</td>\n",
       "      <td>2882387</td>\n",
       "      <td>986298.0902</td>\n",
       "      <td>623</td>\n",
       "    </tr>\n",
       "  </tbody>\n",
       "</table>\n",
       "</div>"
      ],
      "text/plain": [
       "               FullName  Order_Year  SalesOrderID     TotalDue  NumberofItems\n",
       "45        Stephen Jiang        2011        176971   32567.9155             17\n",
       "7        Garrett Vargas        2011       1329262  563326.5478            284\n",
       "3        David Campbell        2011       1242002  675663.6940            220\n",
       "32  Pamela Ansman-Wolfe        2011        974811  730273.4889            273\n",
       "28       Michael Blythe        2011       2882387  986298.0902            623"
      ]
     },
     "execution_count": 98,
     "metadata": {},
     "output_type": "execute_result"
    }
   ],
   "source": [
    "# Sort to make it easier to visualize\n",
    "sales_employees.sort_values(['Order_Year', 'TotalDue'], ascending=True, inplace=True)\n",
    "sales_employees.head()"
   ]
  },
  {
   "cell_type": "code",
   "execution_count": 99,
   "metadata": {
    "colab": {
     "base_uri": "https://localhost:8080/",
     "height": 204
    },
    "colab_type": "code",
    "id": "fCuXVq0l4rLx",
    "outputId": "bb4ff3ff-d2b4-4d79-c16e-b878c1dc709b"
   },
   "outputs": [
    {
     "data": {
      "text/html": [
       "<div>\n",
       "<style scoped>\n",
       "    .dataframe tbody tr th:only-of-type {\n",
       "        vertical-align: middle;\n",
       "    }\n",
       "\n",
       "    .dataframe tbody tr th {\n",
       "        vertical-align: top;\n",
       "    }\n",
       "\n",
       "    .dataframe thead th {\n",
       "        text-align: right;\n",
       "    }\n",
       "</style>\n",
       "<table border=\"1\" class=\"dataframe\">\n",
       "  <thead>\n",
       "    <tr style=\"text-align: right;\">\n",
       "      <th></th>\n",
       "      <th>FullName</th>\n",
       "      <th>Order_Year</th>\n",
       "      <th>SalesOrderID</th>\n",
       "      <th>TotalDue</th>\n",
       "      <th>NumberofItems</th>\n",
       "    </tr>\n",
       "  </thead>\n",
       "  <tbody>\n",
       "    <tr>\n",
       "      <th>39</th>\n",
       "      <td>Ranjit Varkey Chudukatil</td>\n",
       "      <td>2013</td>\n",
       "      <td>5202966</td>\n",
       "      <td>2.987334e+06</td>\n",
       "      <td>1984</td>\n",
       "    </tr>\n",
       "    <tr>\n",
       "      <th>16</th>\n",
       "      <td>Jillian Carson</td>\n",
       "      <td>2013</td>\n",
       "      <td>10134024</td>\n",
       "      <td>3.827980e+06</td>\n",
       "      <td>3208</td>\n",
       "    </tr>\n",
       "    <tr>\n",
       "      <th>30</th>\n",
       "      <td>Michael Blythe</td>\n",
       "      <td>2013</td>\n",
       "      <td>9513303</td>\n",
       "      <td>4.490942e+06</td>\n",
       "      <td>3065</td>\n",
       "    </tr>\n",
       "    <tr>\n",
       "      <th>12</th>\n",
       "      <td>Jae Pak</td>\n",
       "      <td>2013</td>\n",
       "      <td>9270298</td>\n",
       "      <td>4.630339e+06</td>\n",
       "      <td>3343</td>\n",
       "    </tr>\n",
       "    <tr>\n",
       "      <th>24</th>\n",
       "      <td>Linda Mitchell</td>\n",
       "      <td>2013</td>\n",
       "      <td>8824836</td>\n",
       "      <td>4.637218e+06</td>\n",
       "      <td>3101</td>\n",
       "    </tr>\n",
       "  </tbody>\n",
       "</table>\n",
       "</div>"
      ],
      "text/plain": [
       "                    FullName  Order_Year  SalesOrderID      TotalDue  \\\n",
       "39  Ranjit Varkey Chudukatil        2013       5202966  2.987334e+06   \n",
       "16            Jillian Carson        2013      10134024  3.827980e+06   \n",
       "30            Michael Blythe        2013       9513303  4.490942e+06   \n",
       "12                   Jae Pak        2013       9270298  4.630339e+06   \n",
       "24            Linda Mitchell        2013       8824836  4.637218e+06   \n",
       "\n",
       "    NumberofItems  \n",
       "39           1984  \n",
       "16           3208  \n",
       "30           3065  \n",
       "12           3343  \n",
       "24           3101  "
      ]
     },
     "execution_count": 99,
     "metadata": {},
     "output_type": "execute_result"
    }
   ],
   "source": [
    "# Who was the best last year?\n",
    "sales_employees_2013 = sales_employees[sales_employees['Order_Year'] == 2013]\n",
    "sales_employees_2013.tail()"
   ]
  },
  {
   "cell_type": "code",
   "execution_count": 100,
   "metadata": {
    "colab": {
     "base_uri": "https://localhost:8080/",
     "height": 488
    },
    "colab_type": "code",
    "id": "OEy96D3W4rJC",
    "outputId": "b8e47f3e-7ee3-4bc7-fa59-d7510c7db1c6"
   },
   "outputs": [
    {
     "data": {
      "image/png": "[encoded data removed]",
      "text/plain": [
       "<Figure size 1296x432 with 1 Axes>"
      ]
     },
     "metadata": {
      "needs_background": "light"
     },
     "output_type": "display_data"
    }
   ],
   "source": [
    "# Visualize\n",
    "plt.figure(figsize=(18,6))\n",
    "sns.barplot(x='FullName', y='TotalDue', data=sales_employees_2013)\n",
    "plt.xlabel('Employee Full Name')\n",
    "plt.xticks(rotation=45)\n",
    "plt.ylabel('Revenue')\n",
    "plt.title('B2B Revenue by Sales Person in 2013')\n",
    "plt.show()"
   ]
  },
  {
   "cell_type": "markdown",
   "metadata": {
    "colab_type": "text",
    "id": "pYDKDX3x6cXR"
   },
   "source": [
    "### Q&A time!"
   ]
  },
  {
   "cell_type": "markdown",
   "metadata": {
    "colab_type": "text",
    "id": "ZiWyqK7RIelL"
   },
   "source": [
    "### _Take-home question: Who were the highest earning (in compensation) employees in 2012?_"
   ]
  },
  {
   "cell_type": "markdown",
   "metadata": {
    "colab_type": "text",
    "id": "QMAuLfrnnPBq"
   },
   "source": [
    "**Clues:**\n",
    "- Compensation = Sales generated * Commission\n",
    "- You need to use the all four sheets\n",
    "- Sort your results by the amount of commission earned \n",
    "\n",
    "**Bonus points if:**\n",
    "- You make your chart extra pretty\n",
    "- Use syntax not covered in this session\n",
    "\n",
    "**Submission details:**\n",
    "- Share with us a code snippet with your output on LinkedIn, Twitter or Facebook\n",
    "- Tag us on `@DataCamp` with the hashtag `#datacamplive`\n"
   ]
  },
  {
   "cell_type": "code",
   "execution_count": 101,
   "metadata": {},
   "outputs": [
    {
     "data": {
      "text/html": [
       "<div>\n",
       "<style scoped>\n",
       "    .dataframe tbody tr th:only-of-type {\n",
       "        vertical-align: middle;\n",
       "    }\n",
       "\n",
       "    .dataframe tbody tr th {\n",
       "        vertical-align: top;\n",
       "    }\n",
       "\n",
       "    .dataframe thead th {\n",
       "        text-align: right;\n",
       "    }\n",
       "</style>\n",
       "<table border=\"1\" class=\"dataframe\">\n",
       "  <thead>\n",
       "    <tr style=\"text-align: right;\">\n",
       "      <th></th>\n",
       "      <th>FirstName</th>\n",
       "      <th>LastName</th>\n",
       "      <th>CountryCode</th>\n",
       "      <th>RegionName</th>\n",
       "      <th>CommissionPct</th>\n",
       "      <th>FullName</th>\n",
       "    </tr>\n",
       "  </thead>\n",
       "  <tbody>\n",
       "    <tr>\n",
       "      <th>0</th>\n",
       "      <td>Amy</td>\n",
       "      <td>Alberts</td>\n",
       "      <td>GB</td>\n",
       "      <td>United Kingdom</td>\n",
       "      <td>0.000</td>\n",
       "      <td>Amy Alberts</td>\n",
       "    </tr>\n",
       "    <tr>\n",
       "      <th>1</th>\n",
       "      <td>David</td>\n",
       "      <td>Campbell</td>\n",
       "      <td>US</td>\n",
       "      <td>Northwest</td>\n",
       "      <td>0.012</td>\n",
       "      <td>David Campbell</td>\n",
       "    </tr>\n",
       "    <tr>\n",
       "      <th>2</th>\n",
       "      <td>Garrett</td>\n",
       "      <td>Vargas</td>\n",
       "      <td>CA</td>\n",
       "      <td>Canada</td>\n",
       "      <td>0.010</td>\n",
       "      <td>Garrett Vargas</td>\n",
       "    </tr>\n",
       "    <tr>\n",
       "      <th>3</th>\n",
       "      <td>Jae</td>\n",
       "      <td>Pak</td>\n",
       "      <td>CA</td>\n",
       "      <td>Canada</td>\n",
       "      <td>0.020</td>\n",
       "      <td>Jae Pak</td>\n",
       "    </tr>\n",
       "    <tr>\n",
       "      <th>4</th>\n",
       "      <td>Jillian</td>\n",
       "      <td>Carson</td>\n",
       "      <td>US</td>\n",
       "      <td>Southwest</td>\n",
       "      <td>0.015</td>\n",
       "      <td>Jillian Carson</td>\n",
       "    </tr>\n",
       "  </tbody>\n",
       "</table>\n",
       "</div>"
      ],
      "text/plain": [
       "  FirstName  LastName CountryCode      RegionName  CommissionPct  \\\n",
       "0       Amy   Alberts          GB  United Kingdom          0.000   \n",
       "1     David  Campbell          US       Northwest          0.012   \n",
       "2   Garrett    Vargas          CA          Canada          0.010   \n",
       "3       Jae       Pak          CA          Canada          0.020   \n",
       "4   Jillian    Carson          US       Southwest          0.015   \n",
       "\n",
       "         FullName  \n",
       "0     Amy Alberts  \n",
       "1  David Campbell  \n",
       "2  Garrett Vargas  \n",
       "3         Jae Pak  \n",
       "4  Jillian Carson  "
      ]
     },
     "execution_count": 101,
     "metadata": {},
     "output_type": "execute_result"
    }
   ],
   "source": [
    "employees['FullName'] = employees['FirstName'] + ' ' + employees['LastName']\n",
    "employees.head()"
   ]
  },
  {
   "cell_type": "code",
   "execution_count": 102,
   "metadata": {},
   "outputs": [
    {
     "data": {
      "text/html": [
       "<div>\n",
       "<style scoped>\n",
       "    .dataframe tbody tr th:only-of-type {\n",
       "        vertical-align: middle;\n",
       "    }\n",
       "\n",
       "    .dataframe tbody tr th {\n",
       "        vertical-align: top;\n",
       "    }\n",
       "\n",
       "    .dataframe thead th {\n",
       "        text-align: right;\n",
       "    }\n",
       "</style>\n",
       "<table border=\"1\" class=\"dataframe\">\n",
       "  <thead>\n",
       "    <tr style=\"text-align: right;\">\n",
       "      <th></th>\n",
       "      <th>SalesOrderID</th>\n",
       "      <th>TotalDue</th>\n",
       "      <th>NumberofItems</th>\n",
       "      <th>OnlineOrderFlag</th>\n",
       "      <th>OrderDate</th>\n",
       "      <th>ShipDate</th>\n",
       "      <th>Order_Year</th>\n",
       "      <th>Order_YM</th>\n",
       "      <th>CustomerFirstName</th>\n",
       "      <th>CustomerLastName</th>\n",
       "      <th>EmployeeFirstName</th>\n",
       "      <th>EmployeeLastName</th>\n",
       "      <th>ChannelType</th>\n",
       "      <th>FullName</th>\n",
       "      <th>FirstName</th>\n",
       "      <th>LastName</th>\n",
       "      <th>CountryCode</th>\n",
       "      <th>RegionName</th>\n",
       "      <th>CommissionPct</th>\n",
       "    </tr>\n",
       "  </thead>\n",
       "  <tbody>\n",
       "    <tr>\n",
       "      <th>0</th>\n",
       "      <td>43659</td>\n",
       "      <td>23153.2339</td>\n",
       "      <td>12</td>\n",
       "      <td>offline</td>\n",
       "      <td>2011-05-31</td>\n",
       "      <td>2011-06-07</td>\n",
       "      <td>2011</td>\n",
       "      <td>2011-05</td>\n",
       "      <td>NaN</td>\n",
       "      <td>NaN</td>\n",
       "      <td>Tsvi</td>\n",
       "      <td>Reiter</td>\n",
       "      <td>B2B</td>\n",
       "      <td>Tsvi Reiter</td>\n",
       "      <td>Tsvi</td>\n",
       "      <td>Reiter</td>\n",
       "      <td>US</td>\n",
       "      <td>Southeast</td>\n",
       "      <td>0.010</td>\n",
       "    </tr>\n",
       "    <tr>\n",
       "      <th>1</th>\n",
       "      <td>43660</td>\n",
       "      <td>1457.3288</td>\n",
       "      <td>2</td>\n",
       "      <td>offline</td>\n",
       "      <td>2011-05-31</td>\n",
       "      <td>2011-06-07</td>\n",
       "      <td>2011</td>\n",
       "      <td>2011-05</td>\n",
       "      <td>NaN</td>\n",
       "      <td>NaN</td>\n",
       "      <td>Tsvi</td>\n",
       "      <td>Reiter</td>\n",
       "      <td>B2B</td>\n",
       "      <td>Tsvi Reiter</td>\n",
       "      <td>Tsvi</td>\n",
       "      <td>Reiter</td>\n",
       "      <td>US</td>\n",
       "      <td>Southeast</td>\n",
       "      <td>0.010</td>\n",
       "    </tr>\n",
       "    <tr>\n",
       "      <th>2</th>\n",
       "      <td>43661</td>\n",
       "      <td>36865.8012</td>\n",
       "      <td>15</td>\n",
       "      <td>offline</td>\n",
       "      <td>2011-05-31</td>\n",
       "      <td>2011-06-07</td>\n",
       "      <td>2011</td>\n",
       "      <td>2011-05</td>\n",
       "      <td>NaN</td>\n",
       "      <td>NaN</td>\n",
       "      <td>José</td>\n",
       "      <td>Saraiva</td>\n",
       "      <td>B2B</td>\n",
       "      <td>José Saraiva</td>\n",
       "      <td>José</td>\n",
       "      <td>Saraiva</td>\n",
       "      <td>GB</td>\n",
       "      <td>United Kingdom</td>\n",
       "      <td>0.015</td>\n",
       "    </tr>\n",
       "    <tr>\n",
       "      <th>3</th>\n",
       "      <td>43662</td>\n",
       "      <td>32474.9324</td>\n",
       "      <td>22</td>\n",
       "      <td>offline</td>\n",
       "      <td>2011-05-31</td>\n",
       "      <td>2011-06-07</td>\n",
       "      <td>2011</td>\n",
       "      <td>2011-05</td>\n",
       "      <td>NaN</td>\n",
       "      <td>NaN</td>\n",
       "      <td>José</td>\n",
       "      <td>Saraiva</td>\n",
       "      <td>B2B</td>\n",
       "      <td>José Saraiva</td>\n",
       "      <td>José</td>\n",
       "      <td>Saraiva</td>\n",
       "      <td>GB</td>\n",
       "      <td>United Kingdom</td>\n",
       "      <td>0.015</td>\n",
       "    </tr>\n",
       "    <tr>\n",
       "      <th>4</th>\n",
       "      <td>43663</td>\n",
       "      <td>472.3108</td>\n",
       "      <td>1</td>\n",
       "      <td>offline</td>\n",
       "      <td>2011-05-31</td>\n",
       "      <td>2011-06-07</td>\n",
       "      <td>2011</td>\n",
       "      <td>2011-05</td>\n",
       "      <td>NaN</td>\n",
       "      <td>NaN</td>\n",
       "      <td>Linda</td>\n",
       "      <td>Mitchell</td>\n",
       "      <td>B2B</td>\n",
       "      <td>Linda Mitchell</td>\n",
       "      <td>Linda</td>\n",
       "      <td>Mitchell</td>\n",
       "      <td>US</td>\n",
       "      <td>Southwest</td>\n",
       "      <td>0.015</td>\n",
       "    </tr>\n",
       "  </tbody>\n",
       "</table>\n",
       "</div>"
      ],
      "text/plain": [
       "   SalesOrderID    TotalDue  NumberofItems OnlineOrderFlag  OrderDate  \\\n",
       "0         43659  23153.2339             12         offline 2011-05-31   \n",
       "1         43660   1457.3288              2         offline 2011-05-31   \n",
       "2         43661  36865.8012             15         offline 2011-05-31   \n",
       "3         43662  32474.9324             22         offline 2011-05-31   \n",
       "4         43663    472.3108              1         offline 2011-05-31   \n",
       "\n",
       "    ShipDate  Order_Year Order_YM CustomerFirstName CustomerLastName  \\\n",
       "0 2011-06-07        2011  2011-05               NaN              NaN   \n",
       "1 2011-06-07        2011  2011-05               NaN              NaN   \n",
       "2 2011-06-07        2011  2011-05               NaN              NaN   \n",
       "3 2011-06-07        2011  2011-05               NaN              NaN   \n",
       "4 2011-06-07        2011  2011-05               NaN              NaN   \n",
       "\n",
       "  EmployeeFirstName EmployeeLastName ChannelType        FullName FirstName  \\\n",
       "0              Tsvi           Reiter         B2B     Tsvi Reiter      Tsvi   \n",
       "1              Tsvi           Reiter         B2B     Tsvi Reiter      Tsvi   \n",
       "2              José          Saraiva         B2B    José Saraiva      José   \n",
       "3              José          Saraiva         B2B    José Saraiva      José   \n",
       "4             Linda         Mitchell         B2B  Linda Mitchell     Linda   \n",
       "\n",
       "   LastName CountryCode      RegionName  CommissionPct  \n",
       "0    Reiter          US       Southeast          0.010  \n",
       "1    Reiter          US       Southeast          0.010  \n",
       "2   Saraiva          GB  United Kingdom          0.015  \n",
       "3   Saraiva          GB  United Kingdom          0.015  \n",
       "4  Mitchell          US       Southwest          0.015  "
      ]
     },
     "execution_count": 102,
     "metadata": {},
     "output_type": "execute_result"
    }
   ],
   "source": [
    "sales_customers_date_employees = sales_customers_date.merge(employees, on='FullName', how='left')\n",
    "sales_customers_date_employees.head()"
   ]
  },
  {
   "cell_type": "code",
   "execution_count": 103,
   "metadata": {},
   "outputs": [
    {
     "data": {
      "text/html": [
       "<div>\n",
       "<style scoped>\n",
       "    .dataframe tbody tr th:only-of-type {\n",
       "        vertical-align: middle;\n",
       "    }\n",
       "\n",
       "    .dataframe tbody tr th {\n",
       "        vertical-align: top;\n",
       "    }\n",
       "\n",
       "    .dataframe thead th {\n",
       "        text-align: right;\n",
       "    }\n",
       "</style>\n",
       "<table border=\"1\" class=\"dataframe\">\n",
       "  <thead>\n",
       "    <tr style=\"text-align: right;\">\n",
       "      <th></th>\n",
       "      <th>SalesOrderID</th>\n",
       "      <th>TotalDue</th>\n",
       "      <th>NumberofItems</th>\n",
       "      <th>OnlineOrderFlag</th>\n",
       "      <th>OrderDate</th>\n",
       "      <th>ShipDate</th>\n",
       "      <th>Order_Year</th>\n",
       "      <th>Order_YM</th>\n",
       "      <th>CustomerFirstName</th>\n",
       "      <th>CustomerLastName</th>\n",
       "      <th>EmployeeFirstName</th>\n",
       "      <th>EmployeeLastName</th>\n",
       "      <th>ChannelType</th>\n",
       "      <th>FullName</th>\n",
       "      <th>FirstName</th>\n",
       "      <th>LastName</th>\n",
       "      <th>CountryCode</th>\n",
       "      <th>RegionName</th>\n",
       "      <th>CommissionPct</th>\n",
       "      <th>Compensation</th>\n",
       "    </tr>\n",
       "  </thead>\n",
       "  <tbody>\n",
       "    <tr>\n",
       "      <th>0</th>\n",
       "      <td>43659</td>\n",
       "      <td>23153.2339</td>\n",
       "      <td>12</td>\n",
       "      <td>offline</td>\n",
       "      <td>2011-05-31</td>\n",
       "      <td>2011-06-07</td>\n",
       "      <td>2011</td>\n",
       "      <td>2011-05</td>\n",
       "      <td>NaN</td>\n",
       "      <td>NaN</td>\n",
       "      <td>Tsvi</td>\n",
       "      <td>Reiter</td>\n",
       "      <td>B2B</td>\n",
       "      <td>Tsvi Reiter</td>\n",
       "      <td>Tsvi</td>\n",
       "      <td>Reiter</td>\n",
       "      <td>US</td>\n",
       "      <td>Southeast</td>\n",
       "      <td>0.010</td>\n",
       "      <td>231.532339</td>\n",
       "    </tr>\n",
       "    <tr>\n",
       "      <th>1</th>\n",
       "      <td>43660</td>\n",
       "      <td>1457.3288</td>\n",
       "      <td>2</td>\n",
       "      <td>offline</td>\n",
       "      <td>2011-05-31</td>\n",
       "      <td>2011-06-07</td>\n",
       "      <td>2011</td>\n",
       "      <td>2011-05</td>\n",
       "      <td>NaN</td>\n",
       "      <td>NaN</td>\n",
       "      <td>Tsvi</td>\n",
       "      <td>Reiter</td>\n",
       "      <td>B2B</td>\n",
       "      <td>Tsvi Reiter</td>\n",
       "      <td>Tsvi</td>\n",
       "      <td>Reiter</td>\n",
       "      <td>US</td>\n",
       "      <td>Southeast</td>\n",
       "      <td>0.010</td>\n",
       "      <td>14.573288</td>\n",
       "    </tr>\n",
       "    <tr>\n",
       "      <th>2</th>\n",
       "      <td>43661</td>\n",
       "      <td>36865.8012</td>\n",
       "      <td>15</td>\n",
       "      <td>offline</td>\n",
       "      <td>2011-05-31</td>\n",
       "      <td>2011-06-07</td>\n",
       "      <td>2011</td>\n",
       "      <td>2011-05</td>\n",
       "      <td>NaN</td>\n",
       "      <td>NaN</td>\n",
       "      <td>José</td>\n",
       "      <td>Saraiva</td>\n",
       "      <td>B2B</td>\n",
       "      <td>José Saraiva</td>\n",
       "      <td>José</td>\n",
       "      <td>Saraiva</td>\n",
       "      <td>GB</td>\n",
       "      <td>United Kingdom</td>\n",
       "      <td>0.015</td>\n",
       "      <td>552.987018</td>\n",
       "    </tr>\n",
       "    <tr>\n",
       "      <th>3</th>\n",
       "      <td>43662</td>\n",
       "      <td>32474.9324</td>\n",
       "      <td>22</td>\n",
       "      <td>offline</td>\n",
       "      <td>2011-05-31</td>\n",
       "      <td>2011-06-07</td>\n",
       "      <td>2011</td>\n",
       "      <td>2011-05</td>\n",
       "      <td>NaN</td>\n",
       "      <td>NaN</td>\n",
       "      <td>José</td>\n",
       "      <td>Saraiva</td>\n",
       "      <td>B2B</td>\n",
       "      <td>José Saraiva</td>\n",
       "      <td>José</td>\n",
       "      <td>Saraiva</td>\n",
       "      <td>GB</td>\n",
       "      <td>United Kingdom</td>\n",
       "      <td>0.015</td>\n",
       "      <td>487.123986</td>\n",
       "    </tr>\n",
       "    <tr>\n",
       "      <th>4</th>\n",
       "      <td>43663</td>\n",
       "      <td>472.3108</td>\n",
       "      <td>1</td>\n",
       "      <td>offline</td>\n",
       "      <td>2011-05-31</td>\n",
       "      <td>2011-06-07</td>\n",
       "      <td>2011</td>\n",
       "      <td>2011-05</td>\n",
       "      <td>NaN</td>\n",
       "      <td>NaN</td>\n",
       "      <td>Linda</td>\n",
       "      <td>Mitchell</td>\n",
       "      <td>B2B</td>\n",
       "      <td>Linda Mitchell</td>\n",
       "      <td>Linda</td>\n",
       "      <td>Mitchell</td>\n",
       "      <td>US</td>\n",
       "      <td>Southwest</td>\n",
       "      <td>0.015</td>\n",
       "      <td>7.084662</td>\n",
       "    </tr>\n",
       "  </tbody>\n",
       "</table>\n",
       "</div>"
      ],
      "text/plain": [
       "   SalesOrderID    TotalDue  NumberofItems OnlineOrderFlag  OrderDate  \\\n",
       "0         43659  23153.2339             12         offline 2011-05-31   \n",
       "1         43660   1457.3288              2         offline 2011-05-31   \n",
       "2         43661  36865.8012             15         offline 2011-05-31   \n",
       "3         43662  32474.9324             22         offline 2011-05-31   \n",
       "4         43663    472.3108              1         offline 2011-05-31   \n",
       "\n",
       "    ShipDate  Order_Year Order_YM CustomerFirstName CustomerLastName  \\\n",
       "0 2011-06-07        2011  2011-05               NaN              NaN   \n",
       "1 2011-06-07        2011  2011-05               NaN              NaN   \n",
       "2 2011-06-07        2011  2011-05               NaN              NaN   \n",
       "3 2011-06-07        2011  2011-05               NaN              NaN   \n",
       "4 2011-06-07        2011  2011-05               NaN              NaN   \n",
       "\n",
       "  EmployeeFirstName EmployeeLastName ChannelType        FullName FirstName  \\\n",
       "0              Tsvi           Reiter         B2B     Tsvi Reiter      Tsvi   \n",
       "1              Tsvi           Reiter         B2B     Tsvi Reiter      Tsvi   \n",
       "2              José          Saraiva         B2B    José Saraiva      José   \n",
       "3              José          Saraiva         B2B    José Saraiva      José   \n",
       "4             Linda         Mitchell         B2B  Linda Mitchell     Linda   \n",
       "\n",
       "   LastName CountryCode      RegionName  CommissionPct  Compensation  \n",
       "0    Reiter          US       Southeast          0.010    231.532339  \n",
       "1    Reiter          US       Southeast          0.010     14.573288  \n",
       "2   Saraiva          GB  United Kingdom          0.015    552.987018  \n",
       "3   Saraiva          GB  United Kingdom          0.015    487.123986  \n",
       "4  Mitchell          US       Southwest          0.015      7.084662  "
      ]
     },
     "execution_count": 103,
     "metadata": {},
     "output_type": "execute_result"
    }
   ],
   "source": [
    "sales_customers_date_employees['Compensation'] = sales_customers_date_employees['TotalDue'] * sales_customers_date_employees['CommissionPct']\n",
    "sales_customers_date_employees.head()"
   ]
  },
  {
   "cell_type": "code",
   "execution_count": 104,
   "metadata": {},
   "outputs": [
    {
     "data": {
      "text/html": [
       "<div>\n",
       "<style scoped>\n",
       "    .dataframe tbody tr th:only-of-type {\n",
       "        vertical-align: middle;\n",
       "    }\n",
       "\n",
       "    .dataframe tbody tr th {\n",
       "        vertical-align: top;\n",
       "    }\n",
       "\n",
       "    .dataframe thead th {\n",
       "        text-align: right;\n",
       "    }\n",
       "</style>\n",
       "<table border=\"1\" class=\"dataframe\">\n",
       "  <thead>\n",
       "    <tr style=\"text-align: right;\">\n",
       "      <th></th>\n",
       "      <th>Order_Year</th>\n",
       "      <th>FullName</th>\n",
       "      <th>SalesOrderID</th>\n",
       "      <th>TotalDue</th>\n",
       "      <th>NumberofItems</th>\n",
       "      <th>CommissionPct</th>\n",
       "      <th>Compensation</th>\n",
       "    </tr>\n",
       "  </thead>\n",
       "  <tbody>\n",
       "    <tr>\n",
       "      <th>0</th>\n",
       "      <td>2011</td>\n",
       "      <td>David Campbell</td>\n",
       "      <td>1242002</td>\n",
       "      <td>6.756637e+05</td>\n",
       "      <td>220</td>\n",
       "      <td>0.336</td>\n",
       "      <td>8107.964328</td>\n",
       "    </tr>\n",
       "    <tr>\n",
       "      <th>1</th>\n",
       "      <td>2011</td>\n",
       "      <td>Garrett Vargas</td>\n",
       "      <td>1329262</td>\n",
       "      <td>5.633265e+05</td>\n",
       "      <td>284</td>\n",
       "      <td>0.300</td>\n",
       "      <td>5633.265478</td>\n",
       "    </tr>\n",
       "    <tr>\n",
       "      <th>2</th>\n",
       "      <td>2011</td>\n",
       "      <td>Jillian Carson</td>\n",
       "      <td>2616676</td>\n",
       "      <td>1.477158e+06</td>\n",
       "      <td>785</td>\n",
       "      <td>0.885</td>\n",
       "      <td>22157.374216</td>\n",
       "    </tr>\n",
       "    <tr>\n",
       "      <th>3</th>\n",
       "      <td>2011</td>\n",
       "      <td>José Saraiva</td>\n",
       "      <td>2479533</td>\n",
       "      <td>1.323329e+06</td>\n",
       "      <td>704</td>\n",
       "      <td>0.840</td>\n",
       "      <td>19849.929519</td>\n",
       "    </tr>\n",
       "    <tr>\n",
       "      <th>4</th>\n",
       "      <td>2011</td>\n",
       "      <td>Linda Mitchell</td>\n",
       "      <td>2040472</td>\n",
       "      <td>1.294820e+06</td>\n",
       "      <td>475</td>\n",
       "      <td>0.690</td>\n",
       "      <td>19422.296159</td>\n",
       "    </tr>\n",
       "  </tbody>\n",
       "</table>\n",
       "</div>"
      ],
      "text/plain": [
       "   Order_Year        FullName  SalesOrderID      TotalDue  NumberofItems  \\\n",
       "0        2011  David Campbell       1242002  6.756637e+05            220   \n",
       "1        2011  Garrett Vargas       1329262  5.633265e+05            284   \n",
       "2        2011  Jillian Carson       2616676  1.477158e+06            785   \n",
       "3        2011    José Saraiva       2479533  1.323329e+06            704   \n",
       "4        2011  Linda Mitchell       2040472  1.294820e+06            475   \n",
       "\n",
       "   CommissionPct  Compensation  \n",
       "0          0.336   8107.964328  \n",
       "1          0.300   5633.265478  \n",
       "2          0.885  22157.374216  \n",
       "3          0.840  19849.929519  \n",
       "4          0.690  19422.296159  "
      ]
     },
     "execution_count": 104,
     "metadata": {},
     "output_type": "execute_result"
    }
   ],
   "source": [
    "compensation_employees = sales_customers_date_employees.groupby(['Order_Year', 'FullName']).sum().reset_index()\n",
    "compensation_employees.head()"
   ]
  },
  {
   "cell_type": "code",
   "execution_count": 105,
   "metadata": {},
   "outputs": [
    {
     "data": {
      "text/html": [
       "<div>\n",
       "<style scoped>\n",
       "    .dataframe tbody tr th:only-of-type {\n",
       "        vertical-align: middle;\n",
       "    }\n",
       "\n",
       "    .dataframe tbody tr th {\n",
       "        vertical-align: top;\n",
       "    }\n",
       "\n",
       "    .dataframe thead th {\n",
       "        text-align: right;\n",
       "    }\n",
       "</style>\n",
       "<table border=\"1\" class=\"dataframe\">\n",
       "  <thead>\n",
       "    <tr style=\"text-align: right;\">\n",
       "      <th></th>\n",
       "      <th>Order_Year</th>\n",
       "      <th>FullName</th>\n",
       "      <th>SalesOrderID</th>\n",
       "      <th>TotalDue</th>\n",
       "      <th>NumberofItems</th>\n",
       "      <th>CommissionPct</th>\n",
       "      <th>Compensation</th>\n",
       "    </tr>\n",
       "  </thead>\n",
       "  <tbody>\n",
       "    <tr>\n",
       "      <th>8</th>\n",
       "      <td>2011</td>\n",
       "      <td>Stephen Jiang</td>\n",
       "      <td>176971</td>\n",
       "      <td>3.256792e+04</td>\n",
       "      <td>17</td>\n",
       "      <td>0.000</td>\n",
       "      <td>0.000000</td>\n",
       "    </tr>\n",
       "    <tr>\n",
       "      <th>1</th>\n",
       "      <td>2011</td>\n",
       "      <td>Garrett Vargas</td>\n",
       "      <td>1329262</td>\n",
       "      <td>5.633265e+05</td>\n",
       "      <td>284</td>\n",
       "      <td>0.300</td>\n",
       "      <td>5633.265478</td>\n",
       "    </tr>\n",
       "    <tr>\n",
       "      <th>6</th>\n",
       "      <td>2011</td>\n",
       "      <td>Pamela Ansman-Wolfe</td>\n",
       "      <td>974811</td>\n",
       "      <td>7.302735e+05</td>\n",
       "      <td>273</td>\n",
       "      <td>0.220</td>\n",
       "      <td>7302.734889</td>\n",
       "    </tr>\n",
       "    <tr>\n",
       "      <th>0</th>\n",
       "      <td>2011</td>\n",
       "      <td>David Campbell</td>\n",
       "      <td>1242002</td>\n",
       "      <td>6.756637e+05</td>\n",
       "      <td>220</td>\n",
       "      <td>0.336</td>\n",
       "      <td>8107.964328</td>\n",
       "    </tr>\n",
       "    <tr>\n",
       "      <th>7</th>\n",
       "      <td>2011</td>\n",
       "      <td>Shu Ito</td>\n",
       "      <td>1464510</td>\n",
       "      <td>1.089874e+06</td>\n",
       "      <td>477</td>\n",
       "      <td>0.330</td>\n",
       "      <td>10898.743906</td>\n",
       "    </tr>\n",
       "  </tbody>\n",
       "</table>\n",
       "</div>"
      ],
      "text/plain": [
       "   Order_Year             FullName  SalesOrderID      TotalDue  NumberofItems  \\\n",
       "8        2011        Stephen Jiang        176971  3.256792e+04             17   \n",
       "1        2011       Garrett Vargas       1329262  5.633265e+05            284   \n",
       "6        2011  Pamela Ansman-Wolfe        974811  7.302735e+05            273   \n",
       "0        2011       David Campbell       1242002  6.756637e+05            220   \n",
       "7        2011              Shu Ito       1464510  1.089874e+06            477   \n",
       "\n",
       "   CommissionPct  Compensation  \n",
       "8          0.000      0.000000  \n",
       "1          0.300   5633.265478  \n",
       "6          0.220   7302.734889  \n",
       "0          0.336   8107.964328  \n",
       "7          0.330  10898.743906  "
      ]
     },
     "execution_count": 105,
     "metadata": {},
     "output_type": "execute_result"
    }
   ],
   "source": [
    "compensation_employees.sort_values(['Order_Year', 'Compensation'], ascending=True, inplace=True)\n",
    "compensation_employees.head()"
   ]
  },
  {
   "cell_type": "code",
   "execution_count": 106,
   "metadata": {},
   "outputs": [
    {
     "data": {
      "text/html": [
       "<div>\n",
       "<style scoped>\n",
       "    .dataframe tbody tr th:only-of-type {\n",
       "        vertical-align: middle;\n",
       "    }\n",
       "\n",
       "    .dataframe tbody tr th {\n",
       "        vertical-align: top;\n",
       "    }\n",
       "\n",
       "    .dataframe thead th {\n",
       "        text-align: right;\n",
       "    }\n",
       "</style>\n",
       "<table border=\"1\" class=\"dataframe\">\n",
       "  <thead>\n",
       "    <tr style=\"text-align: right;\">\n",
       "      <th></th>\n",
       "      <th>Order_Year</th>\n",
       "      <th>FullName</th>\n",
       "      <th>SalesOrderID</th>\n",
       "      <th>TotalDue</th>\n",
       "      <th>NumberofItems</th>\n",
       "      <th>CommissionPct</th>\n",
       "      <th>Compensation</th>\n",
       "    </tr>\n",
       "  </thead>\n",
       "  <tbody>\n",
       "    <tr>\n",
       "      <th>10</th>\n",
       "      <td>2012</td>\n",
       "      <td>Amy Alberts</td>\n",
       "      <td>335313</td>\n",
       "      <td>1.306670e+05</td>\n",
       "      <td>103</td>\n",
       "      <td>0.000</td>\n",
       "      <td>0.000000</td>\n",
       "    </tr>\n",
       "    <tr>\n",
       "      <th>21</th>\n",
       "      <td>2012</td>\n",
       "      <td>Stephen Jiang</td>\n",
       "      <td>1036258</td>\n",
       "      <td>5.161974e+05</td>\n",
       "      <td>290</td>\n",
       "      <td>0.000</td>\n",
       "      <td>0.000000</td>\n",
       "    </tr>\n",
       "    <tr>\n",
       "      <th>22</th>\n",
       "      <td>2012</td>\n",
       "      <td>Tete Mensa-Annan</td>\n",
       "      <td>1165317</td>\n",
       "      <td>4.972852e+05</td>\n",
       "      <td>375</td>\n",
       "      <td>0.456</td>\n",
       "      <td>9448.418521</td>\n",
       "    </tr>\n",
       "    <tr>\n",
       "      <th>18</th>\n",
       "      <td>2012</td>\n",
       "      <td>Pamela Ansman-Wolfe</td>\n",
       "      <td>2097297</td>\n",
       "      <td>1.361053e+06</td>\n",
       "      <td>791</td>\n",
       "      <td>0.450</td>\n",
       "      <td>13610.533634</td>\n",
       "    </tr>\n",
       "    <tr>\n",
       "      <th>12</th>\n",
       "      <td>2012</td>\n",
       "      <td>Garrett Vargas</td>\n",
       "      <td>3784606</td>\n",
       "      <td>1.448036e+06</td>\n",
       "      <td>1094</td>\n",
       "      <td>0.800</td>\n",
       "      <td>14480.355253</td>\n",
       "    </tr>\n",
       "  </tbody>\n",
       "</table>\n",
       "</div>"
      ],
      "text/plain": [
       "    Order_Year             FullName  SalesOrderID      TotalDue  \\\n",
       "10        2012          Amy Alberts        335313  1.306670e+05   \n",
       "21        2012        Stephen Jiang       1036258  5.161974e+05   \n",
       "22        2012     Tete Mensa-Annan       1165317  4.972852e+05   \n",
       "18        2012  Pamela Ansman-Wolfe       2097297  1.361053e+06   \n",
       "12        2012       Garrett Vargas       3784606  1.448036e+06   \n",
       "\n",
       "    NumberofItems  CommissionPct  Compensation  \n",
       "10            103          0.000      0.000000  \n",
       "21            290          0.000      0.000000  \n",
       "22            375          0.456   9448.418521  \n",
       "18            791          0.450  13610.533634  \n",
       "12           1094          0.800  14480.355253  "
      ]
     },
     "execution_count": 106,
     "metadata": {},
     "output_type": "execute_result"
    }
   ],
   "source": [
    "compensation_employees_2012 = compensation_employees[compensation_employees['Order_Year'] == 2012]\n",
    "compensation_employees_2012.head()"
   ]
  },
  {
   "cell_type": "code",
   "execution_count": 107,
   "metadata": {},
   "outputs": [
    {
     "data": {
      "image/png": "[encoded data removed]",
      "text/plain": [
       "<Figure size 1296x432 with 1 Axes>"
      ]
     },
     "metadata": {
      "needs_background": "light"
     },
     "output_type": "display_data"
    }
   ],
   "source": [
    "plt.figure(figsize=(18,6))\n",
    "sns.barplot(x='FullName', y='Compensation', data=compensation_employees_2012)\n",
    "plt.xlabel('Employee Full Name')\n",
    "plt.xticks(rotation=45)\n",
    "plt.ylabel('Compensation')\n",
    "plt.title('Compensation by Sales Person in 2012')\n",
    "plt.show()"
   ]
  },
  {
   "cell_type": "code",
   "execution_count": null,
   "metadata": {},
   "outputs": [],
   "source": []
  }
 ],
 "metadata": {
  "colab": {
   "name": "webinar_content_students.ipynb",
   "provenance": []
  },
  "kernelspec": {
   "display_name": "Python 3",
   "language": "python",
   "name": "python3"
  },
  "language_info": {
   "codemirror_mode": {
    "name": "ipython",
    "version": 3
   },
   "file_extension": ".py",
   "mimetype": "text/x-python",
   "name": "python",
   "nbconvert_exporter": "python",
   "pygments_lexer": "ipython3",
   "version": "3.7.1"
  }
 },
 "nbformat": 4,
 "nbformat_minor": 1
}
